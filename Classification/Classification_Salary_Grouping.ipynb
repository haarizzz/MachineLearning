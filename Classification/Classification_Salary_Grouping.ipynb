{
 "cells": [
  {
   "cell_type": "markdown",
   "metadata": {},
   "source": [
    "# Self work - Project \n",
    "##### Done by \n",
    "## Ramakrishnan Subramanian"
   ]
  },
  {
   "cell_type": "markdown",
   "metadata": {},
   "source": [
    "## Problem:\n",
    "    - To classify people into different salary groups based on the information about their lifestyle, gender, education etc. "
   ]
  },
  {
   "cell_type": "markdown",
   "metadata": {},
   "source": [
    "## Contents\n",
    "1. **[EDA](#EDA)**\n",
    "\n",
    "2. **[Data Engineering](#engg)**\n",
    "\n",
    "2. **[KNN Imputation](#NULL)**\n",
    "\n",
    "3. **[Logistic Regression](#log)**\n",
    "\n",
    "4. **[Handling the imbalances](#imb)**\n",
    "\n",
    "5. **[Selection of best model](#best) [7 models considered]**\n",
    "\n",
    "6. **[XGB - Base Model](#base)**\n",
    " \n",
    "7. **[Hyperparameter tuning](#hyp)**\n",
    "\n",
    "8. **[Fitting the final model](#final)**\n",
    "\n",
    "9. **[Threshold tuning](#thres)**"
   ]
  },
  {
   "cell_type": "markdown",
   "metadata": {},
   "source": [
    "### About the dataset:\n",
    "    Age - Age of the person\n",
    "    Workclass - Sector that the person works in, government, private, etc.\n",
    "    Education - Maximum education that was received by the person\n",
    "    Education_num - Numerical representation of each education class\n",
    "    Martial_Status - Relationship status\n",
    "    Occupation - Work that the person is involded with\n",
    "    Relationship - Relationship title that the person holds in the family\n",
    "    Race - Denoting skin color\n",
    "    Gender - Sex of the person\n",
    "    Capital_Gain - asset value\n",
    "    Hours_per_Week - Working hours per week \n",
    "    Country - Country where the person resides in\n",
    "    Salary_Group - Target Feature - Groups based on salary that people are classified into"
   ]
  },
  {
   "cell_type": "markdown",
   "metadata": {},
   "source": [
    "##### Importing important libraries"
   ]
  },
  {
   "cell_type": "code",
   "execution_count": 17,
   "metadata": {},
   "outputs": [],
   "source": [
    "import numpy as np\n",
    "import pandas as pd\n",
    "import matplotlib.pyplot as plt\n",
    "%matplotlib inline\n",
    "import seaborn as sns\n",
    "from sklearn.linear_model import LinearRegression,LogisticRegression\n",
    "from sklearn.preprocessing import StandardScaler\n",
    "from sklearn import model_selection\n",
    "import statsmodels.formula.api as smf\n",
    "from sklearn.impute import KNNImputer\n",
    "import warnings\n",
    "warnings.filterwarnings(\"ignore\")\n",
    "plt.rcParams['figure.figsize'] = [15,8]"
   ]
  },
  {
   "cell_type": "markdown",
   "metadata": {},
   "source": [
    "##### Read the data"
   ]
  },
  {
   "cell_type": "code",
   "execution_count": 9,
   "metadata": {},
   "outputs": [
    {
     "data": {
      "text/html": [
       "<div>\n",
       "<style scoped>\n",
       "    .dataframe tbody tr th:only-of-type {\n",
       "        vertical-align: middle;\n",
       "    }\n",
       "\n",
       "    .dataframe tbody tr th {\n",
       "        vertical-align: top;\n",
       "    }\n",
       "\n",
       "    .dataframe thead th {\n",
       "        text-align: right;\n",
       "    }\n",
       "</style>\n",
       "<table border=\"1\" class=\"dataframe\">\n",
       "  <thead>\n",
       "    <tr style=\"text-align: right;\">\n",
       "      <th></th>\n",
       "      <th>Age</th>\n",
       "      <th>Workclass</th>\n",
       "      <th>Education</th>\n",
       "      <th>Education_Num</th>\n",
       "      <th>Martial_Status</th>\n",
       "      <th>Occupation</th>\n",
       "      <th>Relationship</th>\n",
       "      <th>Race</th>\n",
       "      <th>Gender</th>\n",
       "      <th>Capital_Gain</th>\n",
       "      <th>Capital_Loss</th>\n",
       "      <th>Hours_per_week</th>\n",
       "      <th>Country</th>\n",
       "      <th>Salary_Group</th>\n",
       "    </tr>\n",
       "  </thead>\n",
       "  <tbody>\n",
       "    <tr>\n",
       "      <th>0</th>\n",
       "      <td>39.0</td>\n",
       "      <td>State-gov</td>\n",
       "      <td>Bachelors</td>\n",
       "      <td>13</td>\n",
       "      <td>Never-married</td>\n",
       "      <td>Adm-clerical</td>\n",
       "      <td>Not-in-family</td>\n",
       "      <td>White</td>\n",
       "      <td>Male</td>\n",
       "      <td>2174</td>\n",
       "      <td>0</td>\n",
       "      <td>40.0</td>\n",
       "      <td>United-States</td>\n",
       "      <td>&lt;=50K</td>\n",
       "    </tr>\n",
       "    <tr>\n",
       "      <th>1</th>\n",
       "      <td>50.0</td>\n",
       "      <td>Self-emp-not-inc</td>\n",
       "      <td>Bachelors</td>\n",
       "      <td>13</td>\n",
       "      <td>Married-civ-spouse</td>\n",
       "      <td>Exec-managerial</td>\n",
       "      <td>Husband</td>\n",
       "      <td>White</td>\n",
       "      <td>Male</td>\n",
       "      <td>0</td>\n",
       "      <td>0</td>\n",
       "      <td>13.0</td>\n",
       "      <td>United-States</td>\n",
       "      <td>&lt;=50K</td>\n",
       "    </tr>\n",
       "  </tbody>\n",
       "</table>\n",
       "</div>"
      ],
      "text/plain": [
       "    Age          Workclass   Education  Education_Num       Martial_Status  \\\n",
       "0  39.0          State-gov   Bachelors             13        Never-married   \n",
       "1  50.0   Self-emp-not-inc   Bachelors             13   Married-civ-spouse   \n",
       "\n",
       "         Occupation    Relationship    Race Gender  Capital_Gain  \\\n",
       "0      Adm-clerical   Not-in-family   White   Male          2174   \n",
       "1   Exec-managerial         Husband   White   Male             0   \n",
       "\n",
       "   Capital_Loss  Hours_per_week         Country Salary_Group  \n",
       "0             0            40.0   United-States        <=50K  \n",
       "1             0            13.0   United-States        <=50K  "
      ]
     },
     "execution_count": 9,
     "metadata": {},
     "output_type": "execute_result"
    }
   ],
   "source": [
    "data= pd.read_csv('HR_data1.csv')\n",
    "data.head(2)"
   ]
  },
  {
   "cell_type": "markdown",
   "metadata": {},
   "source": [
    "<a id=\"EDA\"></a>\n",
    "## Expolatory Data Analyis "
   ]
  },
  {
   "cell_type": "code",
   "execution_count": 26,
   "metadata": {},
   "outputs": [
    {
     "data": {
      "text/plain": [
       "<matplotlib.axes._subplots.AxesSubplot at 0x144c41e3580>"
      ]
     },
     "execution_count": 26,
     "metadata": {},
     "output_type": "execute_result"
    },
    {
     "data": {
      "image/png": "[encoded data removed]",
      "text/plain": [
       "<Figure size 1080x576 with 1 Axes>"
      ]
     },
     "metadata": {
      "needs_background": "light"
     },
     "output_type": "display_data"
    }
   ],
   "source": [
    "sns.violinplot(x = data['Gender'], y = data['Age'])"
   ]
  },
  {
   "cell_type": "markdown",
   "metadata": {},
   "source": [
    "- Inferences:\n",
    "    - We see the minimum and maximum age of men and women are about the same. \n",
    "    - However, we see most of the women who work are of age between 20 and 30 and most of the men belong to the age between 25 and 40.\n",
    "    "
   ]
  },
  {
   "cell_type": "code",
   "execution_count": 22,
   "metadata": {},
   "outputs": [
    {
     "data": {
      "text/plain": [
       "<matplotlib.axes._subplots.AxesSubplot at 0x144c2e332b0>"
      ]
     },
     "execution_count": 22,
     "metadata": {},
     "output_type": "execute_result"
    },
    {
     "data": {
      "image/png": "[encoded data removed]",
      "text/plain": [
       "<Figure size 1080x576 with 1 Axes>"
      ]
     },
     "metadata": {
      "needs_background": "light"
     },
     "output_type": "display_data"
    }
   ],
   "source": [
    "pd.crosstab(data['Gender'],data['Education']).plot(kind = 'bar', stacked = True)"
   ]
  },
  {
   "cell_type": "markdown",
   "metadata": {},
   "source": [
    "- Inferences:\n",
    "    - Most of the women and men have at least HS-graduation level of education\n",
    "    - Most of men and women have also finished their pre-school"
   ]
  },
  {
   "cell_type": "code",
   "execution_count": 21,
   "metadata": {},
   "outputs": [
    {
     "data": {
      "text/plain": [
       "<matplotlib.axes._subplots.AxesSubplot at 0x144c29cb7c0>"
      ]
     },
     "execution_count": 21,
     "metadata": {},
     "output_type": "execute_result"
    },
    {
     "data": {
      "image/png": "[encoded data removed]",
      "text/plain": [
       "<Figure size 1080x576 with 1 Axes>"
      ]
     },
     "metadata": {
      "needs_background": "light"
     },
     "output_type": "display_data"
    }
   ],
   "source": [
    "pd.crosstab(data['Gender'],data['Occupation']).plot(kind = 'bar', stacked = True)"
   ]
  },
  {
   "cell_type": "markdown",
   "metadata": {},
   "source": [
    "- Inferences:\n",
    "    - Most of the men work in the armed forces, followed by Sales\n",
    "    - Most of the women work as Adm-Clerical and followed by professor profession. "
   ]
  },
  {
   "cell_type": "code",
   "execution_count": 20,
   "metadata": {},
   "outputs": [
    {
     "data": {
      "text/plain": [
       "<matplotlib.axes._subplots.AxesSubplot at 0x144c28e0cd0>"
      ]
     },
     "execution_count": 20,
     "metadata": {},
     "output_type": "execute_result"
    },
    {
     "data": {
      "image/png": "[encoded data removed]",
      "text/plain": [
       "<Figure size 1080x576 with 1 Axes>"
      ]
     },
     "metadata": {
      "needs_background": "light"
     },
     "output_type": "display_data"
    }
   ],
   "source": [
    "pd.crosstab(data['Gender'],data['Martial_Status']).plot(kind = 'bar', stacked = True)"
   ]
  },
  {
   "cell_type": "markdown",
   "metadata": {},
   "source": [
    "- Inferences:\n",
    "    - Most of the men in the dataset are married whose spouse is in the armed forces\n",
    "    - Second highest percentage of men in the dataset are unmarried men,\n",
    "    - Most of the women in the dataset are unmarried, then followed by Divorced women.\n",
    "    "
   ]
  },
  {
   "cell_type": "markdown",
   "metadata": {},
   "source": [
    "<a id=\"engg\"></a>\n",
    "## Data Engineering"
   ]
  },
  {
   "cell_type": "markdown",
   "metadata": {},
   "source": [
    "##### Encoding the Salary Group [target feature]"
   ]
  },
  {
   "cell_type": "code",
   "execution_count": 20,
   "metadata": {},
   "outputs": [],
   "source": [
    "cat_data=data.select_dtypes(exclude=np.number)"
   ]
  },
  {
   "cell_type": "code",
   "execution_count": 21,
   "metadata": {},
   "outputs": [],
   "source": [
    "for i in cat_data.columns:\n",
    "    data[i]=data[i].str.strip()"
   ]
  },
  {
   "cell_type": "code",
   "execution_count": 22,
   "metadata": {},
   "outputs": [
    {
     "data": {
      "text/plain": [
       "array(['<=50K', '>50K', '<=50K.', '>50K.'], dtype=object)"
      ]
     },
     "execution_count": 22,
     "metadata": {},
     "output_type": "execute_result"
    }
   ],
   "source": [
    "data['Salary_Group'].unique()"
   ]
  },
  {
   "cell_type": "code",
   "execution_count": 23,
   "metadata": {},
   "outputs": [],
   "source": [
    "data['Salary_Group']=data['Salary_Group'].replace({'<=50K':0,'<=50K.':0,'>50K.':1,'>50K':1})"
   ]
  },
  {
   "cell_type": "markdown",
   "metadata": {},
   "source": [
    "##### Inferences:\n",
    "    - There are two classes of people in the dataset depending upon the salary group."
   ]
  },
  {
   "cell_type": "markdown",
   "metadata": {},
   "source": [
    "##### Number of records in each class"
   ]
  },
  {
   "cell_type": "code",
   "execution_count": 24,
   "metadata": {},
   "outputs": [
    {
     "data": {
      "text/plain": [
       "0    0.758918\n",
       "1    0.241082\n",
       "Name: Salary_Group, dtype: float64"
      ]
     },
     "execution_count": 24,
     "metadata": {},
     "output_type": "execute_result"
    }
   ],
   "source": [
    "data['Salary_Group'].value_counts(normalize=True)"
   ]
  },
  {
   "cell_type": "markdown",
   "metadata": {},
   "source": [
    "##### Inferences:\n",
    "    - The data is imbalanced\n",
    "    - Majority of the people belongs to Class 0 (<= 50K)"
   ]
  },
  {
   "cell_type": "markdown",
   "metadata": {},
   "source": [
    "##### Checking Null Values"
   ]
  },
  {
   "cell_type": "code",
   "execution_count": 25,
   "metadata": {
    "scrolled": true
   },
   "outputs": [
    {
     "data": {
      "text/plain": [
       "Age               0.054754\n",
       "Workclass         0.056917\n",
       "Education         0.000000\n",
       "Education_Num     0.000000\n",
       "Martial_Status    0.000000\n",
       "Occupation        0.057136\n",
       "Relationship      0.000000\n",
       "Race              0.000000\n",
       "Gender            0.000000\n",
       "Capital_Gain      0.000000\n",
       "Capital_Loss      0.000000\n",
       "Hours_per_week    0.030087\n",
       "Country           0.017959\n",
       "Salary_Group      0.000000\n",
       "dtype: float64"
      ]
     },
     "execution_count": 25,
     "metadata": {},
     "output_type": "execute_result"
    }
   ],
   "source": [
    "data.isnull().sum()/len(data)"
   ]
  },
  {
   "cell_type": "markdown",
   "metadata": {},
   "source": [
    "<a id=\"NULL\"></a>\n",
    "##### Imputing the null values of the numerical features"
   ]
  },
  {
   "cell_type": "code",
   "execution_count": 27,
   "metadata": {},
   "outputs": [],
   "source": [
    "num_data=data.select_dtypes(include=np.number)"
   ]
  },
  {
   "cell_type": "code",
   "execution_count": 28,
   "metadata": {},
   "outputs": [],
   "source": [
    "impu=KNNImputer()\n",
    "num_data_fill=impu.fit_transform(num_data)\n",
    "num_data_fill=pd.DataFrame(num_data_fill,columns=num_data.columns)"
   ]
  },
  {
   "cell_type": "code",
   "execution_count": 29,
   "metadata": {},
   "outputs": [
    {
     "data": {
      "text/plain": [
       "Age               0\n",
       "Education_Num     0\n",
       "Capital_Gain      0\n",
       "Capital_Loss      0\n",
       "Hours_per_week    0\n",
       "Salary_Group      0\n",
       "dtype: int64"
      ]
     },
     "execution_count": 29,
     "metadata": {},
     "output_type": "execute_result"
    }
   ],
   "source": [
    "num_data_fill.isnull().sum()"
   ]
  },
  {
   "cell_type": "markdown",
   "metadata": {},
   "source": [
    "##### Imputing the null values of categorical features"
   ]
  },
  {
   "cell_type": "code",
   "execution_count": 30,
   "metadata": {},
   "outputs": [
    {
     "data": {
      "text/plain": [
       "Workclass         0.056917\n",
       "Education         0.000000\n",
       "Martial_Status    0.000000\n",
       "Occupation        0.057136\n",
       "Relationship      0.000000\n",
       "Race              0.000000\n",
       "Gender            0.000000\n",
       "Country           0.017959\n",
       "dtype: float64"
      ]
     },
     "execution_count": 30,
     "metadata": {},
     "output_type": "execute_result"
    }
   ],
   "source": [
    "cat_data=data.select_dtypes(exclude=np.number)\n",
    "cat_data.isnull().sum()/len(cat_data)"
   ]
  },
  {
   "cell_type": "code",
   "execution_count": 31,
   "metadata": {},
   "outputs": [
    {
     "name": "stdout",
     "output_type": "stream",
     "text": [
      "Private             0.738533\n",
      "Self-emp-not-inc    0.082588\n",
      "Local-gov           0.068306\n",
      "State-gov           0.042180\n",
      "Self-emp-inc        0.036287\n",
      "Federal-gov         0.031410\n",
      "Without-pay         0.000464\n",
      "Never-worked        0.000232\n",
      "Name: Workclass, dtype: float64\n",
      "United-States                 0.912213\n",
      "Mexico                        0.019849\n",
      "Philippines                   0.006189\n",
      "Germany                       0.004321\n",
      "Canada                        0.003903\n",
      "Puerto-Rico                   0.003680\n",
      "El-Salvador                   0.003178\n",
      "India                         0.003122\n",
      "Cuba                          0.002927\n",
      "England                       0.002704\n",
      "China                         0.002593\n",
      "South                         0.002565\n",
      "Jamaica                       0.002397\n",
      "Italy                         0.002286\n",
      "Dominican-Republic            0.002202\n",
      "Vietnam                       0.002091\n",
      "Japan                         0.001979\n",
      "Guatemala                     0.001924\n",
      "Columbia                      0.001896\n",
      "Poland                        0.001728\n",
      "Taiwan                        0.001533\n",
      "Iran                          0.001422\n",
      "Haiti                         0.001338\n",
      "Portugal                      0.001227\n",
      "Nicaragua                     0.001059\n",
      "Greece                        0.001004\n",
      "Peru                          0.000920\n",
      "Ecuador                       0.000864\n",
      "France                        0.000864\n",
      "Ireland                       0.000753\n",
      "Hong                          0.000669\n",
      "Trinadad&Tobago               0.000641\n",
      "Cambodia                      0.000613\n",
      "Thailand                      0.000558\n",
      "Laos                          0.000558\n",
      "Outlying-US(Guam-USVI-etc)    0.000474\n",
      "Yugoslavia                    0.000474\n",
      "Scotland                      0.000446\n",
      "Hungary                       0.000418\n",
      "Honduras                      0.000390\n",
      "Holand-Netherlands            0.000028\n",
      "Name: Country, dtype: float64\n",
      "Prof-specialty       0.134785\n",
      "Craft-repair         0.133420\n",
      "Exec-managerial      0.131707\n",
      "Adm-clerical         0.122358\n",
      "Sales                0.119744\n",
      "Other-service        0.106852\n",
      "Machine-op-inspct    0.064895\n",
      "Transport-moving     0.052003\n",
      "Handlers-cleaners    0.044774\n",
      "Farming-fishing      0.031707\n",
      "Tech-support         0.030865\n",
      "Protective-serv      0.021603\n",
      "Priv-house-serv      0.004994\n",
      "Armed-Forces         0.000290\n",
      "Name: Occupation, dtype: float64\n"
     ]
    }
   ],
   "source": [
    "print(cat_data['Workclass'].value_counts(normalize=True))\n",
    "print(cat_data['Country'].value_counts(normalize=True))\n",
    "print(cat_data['Occupation'].value_counts(normalize=True))"
   ]
  },
  {
   "cell_type": "markdown",
   "metadata": {},
   "source": [
    "- Occupation feature cannot be filled randomly with any data, so 'missing' string will be imputed\n",
    "- Owing to the fact that these data is categorical, Country and WorkClass are replaced by Mode."
   ]
  },
  {
   "cell_type": "code",
   "execution_count": 32,
   "metadata": {},
   "outputs": [],
   "source": [
    "cat_data['Occupation']=cat_data['Occupation'].fillna('Missing')\n",
    "cat_data['Country']=cat_data['Country'].fillna(cat_data['Country'].mode()[0])\n",
    "cat_data['Workclass']=cat_data['Workclass'].fillna(cat_data['Workclass'].mode()[0])"
   ]
  },
  {
   "cell_type": "code",
   "execution_count": 33,
   "metadata": {},
   "outputs": [
    {
     "data": {
      "text/plain": [
       "Workclass         0\n",
       "Education         0\n",
       "Martial_Status    0\n",
       "Occupation        0\n",
       "Relationship      0\n",
       "Race              0\n",
       "Gender            0\n",
       "Country           0\n",
       "dtype: int64"
      ]
     },
     "execution_count": 33,
     "metadata": {},
     "output_type": "execute_result"
    }
   ],
   "source": [
    "cat_data.isnull().sum()"
   ]
  },
  {
   "cell_type": "markdown",
   "metadata": {},
   "source": [
    "##### Concatenating numerical and categorical features"
   ]
  },
  {
   "cell_type": "code",
   "execution_count": 34,
   "metadata": {},
   "outputs": [],
   "source": [
    "data_final=pd.concat([num_data_fill,cat_data],axis=1)"
   ]
  },
  {
   "cell_type": "code",
   "execution_count": 35,
   "metadata": {},
   "outputs": [
    {
     "data": {
      "text/plain": [
       "0"
      ]
     },
     "execution_count": 35,
     "metadata": {},
     "output_type": "execute_result"
    }
   ],
   "source": [
    "data_final.isnull().sum().sum()"
   ]
  },
  {
   "cell_type": "markdown",
   "metadata": {},
   "source": [
    "##### Inferences:\n",
    "    - There are no null values"
   ]
  },
  {
   "cell_type": "markdown",
   "metadata": {},
   "source": [
    "##### Further Simplification of features"
   ]
  },
  {
   "cell_type": "code",
   "execution_count": 18,
   "metadata": {},
   "outputs": [
    {
     "data": {
      "text/html": [
       "<div>\n",
       "<style scoped>\n",
       "    .dataframe tbody tr th:only-of-type {\n",
       "        vertical-align: middle;\n",
       "    }\n",
       "\n",
       "    .dataframe tbody tr th {\n",
       "        vertical-align: top;\n",
       "    }\n",
       "\n",
       "    .dataframe thead th {\n",
       "        text-align: right;\n",
       "    }\n",
       "</style>\n",
       "<table border=\"1\" class=\"dataframe\">\n",
       "  <thead>\n",
       "    <tr style=\"text-align: right;\">\n",
       "      <th></th>\n",
       "      <th>Age</th>\n",
       "      <th>Education_Num</th>\n",
       "      <th>Capital_Gain</th>\n",
       "      <th>Capital_Loss</th>\n",
       "      <th>Hours_per_week</th>\n",
       "      <th>Salary_Group</th>\n",
       "      <th>Workclass</th>\n",
       "      <th>Education</th>\n",
       "      <th>Martial_Status</th>\n",
       "      <th>Occupation</th>\n",
       "      <th>Relationship</th>\n",
       "      <th>Race</th>\n",
       "      <th>Gender</th>\n",
       "      <th>Country</th>\n",
       "    </tr>\n",
       "  </thead>\n",
       "  <tbody>\n",
       "    <tr>\n",
       "      <th>0</th>\n",
       "      <td>39.0</td>\n",
       "      <td>13.0</td>\n",
       "      <td>2174.0</td>\n",
       "      <td>0.0</td>\n",
       "      <td>40.0</td>\n",
       "      <td>0.0</td>\n",
       "      <td>State-gov</td>\n",
       "      <td>Bachelors</td>\n",
       "      <td>Never-married</td>\n",
       "      <td>Adm-clerical</td>\n",
       "      <td>Not-in-family</td>\n",
       "      <td>White</td>\n",
       "      <td>Male</td>\n",
       "      <td>United-States</td>\n",
       "    </tr>\n",
       "    <tr>\n",
       "      <th>1</th>\n",
       "      <td>50.0</td>\n",
       "      <td>13.0</td>\n",
       "      <td>0.0</td>\n",
       "      <td>0.0</td>\n",
       "      <td>13.0</td>\n",
       "      <td>0.0</td>\n",
       "      <td>Self-emp-not-inc</td>\n",
       "      <td>Bachelors</td>\n",
       "      <td>Married-civ-spouse</td>\n",
       "      <td>Exec-managerial</td>\n",
       "      <td>Husband</td>\n",
       "      <td>White</td>\n",
       "      <td>Male</td>\n",
       "      <td>United-States</td>\n",
       "    </tr>\n",
       "  </tbody>\n",
       "</table>\n",
       "</div>"
      ],
      "text/plain": [
       "    Age  Education_Num  Capital_Gain  Capital_Loss  Hours_per_week  \\\n",
       "0  39.0           13.0        2174.0           0.0            40.0   \n",
       "1  50.0           13.0           0.0           0.0            13.0   \n",
       "\n",
       "   Salary_Group         Workclass  Education      Martial_Status  \\\n",
       "0           0.0         State-gov  Bachelors       Never-married   \n",
       "1           0.0  Self-emp-not-inc  Bachelors  Married-civ-spouse   \n",
       "\n",
       "        Occupation   Relationship   Race Gender        Country  \n",
       "0     Adm-clerical  Not-in-family  White   Male  United-States  \n",
       "1  Exec-managerial        Husband  White   Male  United-States  "
      ]
     },
     "execution_count": 18,
     "metadata": {},
     "output_type": "execute_result"
    }
   ],
   "source": [
    "data_final.head(2)"
   ]
  },
  {
   "cell_type": "markdown",
   "metadata": {},
   "source": [
    "##### Converting few categorical features into numerical features based on their percentages of records in the dataset."
   ]
  },
  {
   "cell_type": "code",
   "execution_count": 36,
   "metadata": {},
   "outputs": [],
   "source": [
    "data_final['Occupation']=data_final.groupby('Occupation')['Salary_Group'].transform('sum')"
   ]
  },
  {
   "cell_type": "code",
   "execution_count": 38,
   "metadata": {},
   "outputs": [],
   "source": [
    "data_final['Occupation']=data_final['Occupation']/len(data_final)*100"
   ]
  },
  {
   "cell_type": "code",
   "execution_count": 42,
   "metadata": {},
   "outputs": [],
   "source": [
    "data_final['Country']=data_final.groupby('Country')['Salary_Group'].transform('sum')\n",
    "data_final['Country']=data_final['Country']/len(data_final)*100"
   ]
  },
  {
   "cell_type": "code",
   "execution_count": 43,
   "metadata": {},
   "outputs": [],
   "source": [
    "data_final['Workclass']=data_final.groupby('Workclass')['Salary_Group'].transform('sum')\n",
    "data_final['Workclass']=data_final['Workclass']/len(data_final)*100"
   ]
  },
  {
   "cell_type": "code",
   "execution_count": 44,
   "metadata": {},
   "outputs": [],
   "source": [
    "data_final['Martial_Status']=data_final.groupby('Martial_Status')['Salary_Group'].transform('sum')\n",
    "data_final['Martial_Status']=data_final['Martial_Status']/len(data_final)*100"
   ]
  },
  {
   "cell_type": "code",
   "execution_count": 45,
   "metadata": {},
   "outputs": [],
   "source": [
    "data_final['Relationship']=data_final.groupby('Relationship')['Salary_Group'].transform('sum')\n",
    "data_final['Relationship']=data_final['Relationship']/len(data_final)*100"
   ]
  },
  {
   "cell_type": "markdown",
   "metadata": {},
   "source": [
    "##### Handling 'Education feature'"
   ]
  },
  {
   "cell_type": "code",
   "execution_count": 48,
   "metadata": {},
   "outputs": [
    {
     "data": {
      "text/plain": [
       "16"
      ]
     },
     "execution_count": 48,
     "metadata": {},
     "output_type": "execute_result"
    }
   ],
   "source": [
    "data_final['Education'].nunique()"
   ]
  },
  {
   "cell_type": "code",
   "execution_count": 49,
   "metadata": {},
   "outputs": [],
   "source": [
    "data_final=data_final.drop('Education',axis=1)"
   ]
  },
  {
   "cell_type": "markdown",
   "metadata": {},
   "source": [
    "- Dropping the 'Education' feature as it has 16 unique records and give rise to data complexity and increase the computational time"
   ]
  },
  {
   "cell_type": "markdown",
   "metadata": {},
   "source": [
    "##### Encoding the categorical features"
   ]
  },
  {
   "cell_type": "code",
   "execution_count": 50,
   "metadata": {},
   "outputs": [],
   "source": [
    "data_final=pd.get_dummies(data_final,columns=['Gender','Race'], drop_first=True)"
   ]
  },
  {
   "cell_type": "code",
   "execution_count": 51,
   "metadata": {},
   "outputs": [
    {
     "data": {
      "text/html": [
       "<div>\n",
       "<style scoped>\n",
       "    .dataframe tbody tr th:only-of-type {\n",
       "        vertical-align: middle;\n",
       "    }\n",
       "\n",
       "    .dataframe tbody tr th {\n",
       "        vertical-align: top;\n",
       "    }\n",
       "\n",
       "    .dataframe thead th {\n",
       "        text-align: right;\n",
       "    }\n",
       "</style>\n",
       "<table border=\"1\" class=\"dataframe\">\n",
       "  <thead>\n",
       "    <tr style=\"text-align: right;\">\n",
       "      <th></th>\n",
       "      <th>Age</th>\n",
       "      <th>Education_Num</th>\n",
       "      <th>Capital_Gain</th>\n",
       "      <th>Capital_Loss</th>\n",
       "      <th>Hours_per_week</th>\n",
       "      <th>Salary_Group</th>\n",
       "      <th>Workclass</th>\n",
       "      <th>Martial_Status</th>\n",
       "      <th>Occupation</th>\n",
       "      <th>Relationship</th>\n",
       "      <th>Country</th>\n",
       "      <th>Gender_Male</th>\n",
       "      <th>Race_Asian-Pac-Islander</th>\n",
       "      <th>Race_Black</th>\n",
       "      <th>Race_Other</th>\n",
       "      <th>Race_White</th>\n",
       "    </tr>\n",
       "  </thead>\n",
       "  <tbody>\n",
       "    <tr>\n",
       "      <th>0</th>\n",
       "      <td>39.0</td>\n",
       "      <td>13.0</td>\n",
       "      <td>2174.0</td>\n",
       "      <td>0.0</td>\n",
       "      <td>40.0</td>\n",
       "      <td>0.0</td>\n",
       "      <td>1.067703</td>\n",
       "      <td>1.500260</td>\n",
       "      <td>1.555014</td>\n",
       "      <td>2.625455</td>\n",
       "      <td>22.473787</td>\n",
       "      <td>1</td>\n",
       "      <td>0</td>\n",
       "      <td>0</td>\n",
       "      <td>0</td>\n",
       "      <td>1</td>\n",
       "    </tr>\n",
       "    <tr>\n",
       "      <th>1</th>\n",
       "      <td>50.0</td>\n",
       "      <td>13.0</td>\n",
       "      <td>0.0</td>\n",
       "      <td>0.0</td>\n",
       "      <td>13.0</td>\n",
       "      <td>0.0</td>\n",
       "      <td>2.217538</td>\n",
       "      <td>20.579298</td>\n",
       "      <td>5.970926</td>\n",
       "      <td>18.222137</td>\n",
       "      <td>22.473787</td>\n",
       "      <td>1</td>\n",
       "      <td>0</td>\n",
       "      <td>0</td>\n",
       "      <td>0</td>\n",
       "      <td>1</td>\n",
       "    </tr>\n",
       "  </tbody>\n",
       "</table>\n",
       "</div>"
      ],
      "text/plain": [
       "    Age  Education_Num  Capital_Gain  Capital_Loss  Hours_per_week  \\\n",
       "0  39.0           13.0        2174.0           0.0            40.0   \n",
       "1  50.0           13.0           0.0           0.0            13.0   \n",
       "\n",
       "   Salary_Group  Workclass  Martial_Status  Occupation  Relationship  \\\n",
       "0           0.0   1.067703        1.500260    1.555014      2.625455   \n",
       "1           0.0   2.217538       20.579298    5.970926     18.222137   \n",
       "\n",
       "     Country  Gender_Male  Race_Asian-Pac-Islander  Race_Black  Race_Other  \\\n",
       "0  22.473787            1                        0           0           0   \n",
       "1  22.473787            1                        0           0           0   \n",
       "\n",
       "   Race_White  \n",
       "0           1  \n",
       "1           1  "
      ]
     },
     "execution_count": 51,
     "metadata": {},
     "output_type": "execute_result"
    }
   ],
   "source": [
    "data_final.head(2)"
   ]
  },
  {
   "cell_type": "markdown",
   "metadata": {},
   "source": [
    "## Machine Learning Models"
   ]
  },
  {
   "cell_type": "markdown",
   "metadata": {},
   "source": [
    "<a id=\"log\"></a>\n",
    "### Basic Logistic Regression"
   ]
  },
  {
   "cell_type": "code",
   "execution_count": 52,
   "metadata": {},
   "outputs": [
    {
     "name": "stdout",
     "output_type": "stream",
     "text": [
      "              precision    recall  f1-score   support\n",
      "\n",
      "         0.0       0.84      0.91      0.87      8276\n",
      "         1.0       0.62      0.45      0.52      2683\n",
      "\n",
      "    accuracy                           0.80     10959\n",
      "   macro avg       0.73      0.68      0.70     10959\n",
      "weighted avg       0.78      0.80      0.79     10959\n",
      "\n"
     ]
    }
   ],
   "source": [
    "from sklearn.model_selection import train_test_split\n",
    "from sklearn.linear_model import LogisticRegression\n",
    "\n",
    "inp=data_final.drop('Salary_Group',axis=1)\n",
    "out=data_final['Salary_Group']\n",
    "xtrain,xtest,ytrain,ytest=train_test_split(inp,out,test_size=0.3,random_state=48)\n",
    "\n",
    "lm=LogisticRegression()\n",
    "lm.fit(xtrain,ytrain)\n",
    "ypred=lm.predict(xtest)\n",
    "\n",
    "from sklearn.metrics import classification_report,confusion_matrix\n",
    "\n",
    "print(classification_report(ytest,ypred))"
   ]
  },
  {
   "cell_type": "markdown",
   "metadata": {},
   "source": [
    "##### - Inferences:\n",
    "    - Prediction of class 1 is poor. \n",
    "    - This is because the model is trained better in predicting the class 0 since more records of class 0 are present."
   ]
  },
  {
   "cell_type": "markdown",
   "metadata": {},
   "source": [
    "<a id=\"imb\"></a>\n",
    "### Handling the Imbalances in the data"
   ]
  },
  {
   "cell_type": "code",
   "execution_count": 58,
   "metadata": {},
   "outputs": [
    {
     "data": {
      "text/plain": [
       "0.0    27721\n",
       "1.0     8806\n",
       "Name: Salary_Group, dtype: int64"
      ]
     },
     "execution_count": 58,
     "metadata": {},
     "output_type": "execute_result"
    }
   ],
   "source": [
    "data_final['Salary_Group'].value_counts()"
   ]
  },
  {
   "cell_type": "markdown",
   "metadata": {},
   "source": [
    "##### SMOTE technique"
   ]
  },
  {
   "cell_type": "code",
   "execution_count": 62,
   "metadata": {},
   "outputs": [],
   "source": [
    "from imblearn.over_sampling import SMOTE\n",
    "from imblearn.under_sampling import NearMiss\n",
    "from imblearn.pipeline import make_pipeline"
   ]
  },
  {
   "cell_type": "code",
   "execution_count": 63,
   "metadata": {},
   "outputs": [],
   "source": [
    "count_class_0 = 20000\n",
    "count_class_1 = 14000\n",
    "pipe = make_pipeline(SMOTE(sampling_strategy={1: count_class_1})\n",
    "                    ,NearMiss(sampling_strategy={0: count_class_0}))\n",
    "inp_bal, out_bal = pipe.fit_resample(inp, out)"
   ]
  },
  {
   "cell_type": "code",
   "execution_count": 75,
   "metadata": {},
   "outputs": [
    {
     "data": {
      "text/plain": [
       "0.0    20000\n",
       "1.0    14000\n",
       "Name: Salary_Group, dtype: int64"
      ]
     },
     "execution_count": 75,
     "metadata": {},
     "output_type": "execute_result"
    }
   ],
   "source": [
    "out_bal.value_counts()"
   ]
  },
  {
   "cell_type": "code",
   "execution_count": 77,
   "metadata": {},
   "outputs": [
    {
     "data": {
      "text/plain": [
       "0.317208564631245"
      ]
     },
     "execution_count": 77,
     "metadata": {},
     "output_type": "execute_result"
    }
   ],
   "source": [
    "6000/18915"
   ]
  },
  {
   "cell_type": "markdown",
   "metadata": {},
   "source": [
    "##### Inferences:\n",
    "    - The difference in imbalances are brought down from 18,915 to 6000, which is 32% improvement in balancing of the data."
   ]
  },
  {
   "cell_type": "markdown",
   "metadata": {},
   "source": [
    "##### Refitting the model with balanced dataset"
   ]
  },
  {
   "cell_type": "code",
   "execution_count": 64,
   "metadata": {},
   "outputs": [],
   "source": [
    "xtrain,xtest,ytrain,ytest=train_test_split(inp_bal,out_bal,test_size=0.3,random_state=48)"
   ]
  },
  {
   "cell_type": "code",
   "execution_count": 65,
   "metadata": {},
   "outputs": [],
   "source": [
    "lm=LogisticRegression()\n",
    "lm.fit(xtrain,ytrain)\n",
    "ypred=lm.predict(xtest)"
   ]
  },
  {
   "cell_type": "code",
   "execution_count": 66,
   "metadata": {},
   "outputs": [
    {
     "name": "stdout",
     "output_type": "stream",
     "text": [
      "              precision    recall  f1-score   support\n",
      "\n",
      "         0.0       0.79      0.86      0.82      6016\n",
      "         1.0       0.76      0.66      0.71      4184\n",
      "\n",
      "    accuracy                           0.78     10200\n",
      "   macro avg       0.77      0.76      0.76     10200\n",
      "weighted avg       0.78      0.78      0.77     10200\n",
      "\n"
     ]
    }
   ],
   "source": [
    "print(classification_report(ytest,ypred))"
   ]
  },
  {
   "cell_type": "markdown",
   "metadata": {},
   "source": [
    "##### Inferences:\n",
    "    - Prediction of class 1 has improved, from 45% to 66%, thanks to SMOTE technique."
   ]
  },
  {
   "cell_type": "markdown",
   "metadata": {},
   "source": [
    "<a id=\"best\"></a>\n",
    "## Choosing the best ML Model "
   ]
  },
  {
   "cell_type": "markdown",
   "metadata": {},
   "source": [
    "##### import all the necessary ML libraries"
   ]
  },
  {
   "cell_type": "code",
   "execution_count": 91,
   "metadata": {},
   "outputs": [],
   "source": [
    "from sklearn.tree import DecisionTreeClassifier\n",
    "from sklearn.neighbors import KNeighborsClassifier\n",
    "from sklearn.linear_model import LogisticRegression\n",
    "from sklearn.ensemble import RandomForestClassifier, AdaBoostClassifier, GradientBoostingClassifier\n",
    "from sklearn.naive_bayes import GaussianNB\n",
    "from xgboost import XGBClassifier\n",
    "from sklearn.model_selection import cross_val_score,KFold\n",
    "from sklearn.naive_bayes import MultinomialNB"
   ]
  },
  {
   "cell_type": "code",
   "execution_count": 92,
   "metadata": {},
   "outputs": [],
   "source": [
    "# 7 models are considered\n",
    "\n",
    "clf1 = LogisticRegression(random_state=20)\n",
    "clf2 = DecisionTreeClassifier(random_state=20)\n",
    "clf3 = RandomForestClassifier(random_state=20)\n",
    "clf4 = AdaBoostClassifier(random_state=20) \n",
    "clf5 = GradientBoostingClassifier(random_state=20)\n",
    "clf6 = XGBClassifier(random_state=20)\n",
    "clf7 = MultinomialNB()"
   ]
  },
  {
   "cell_type": "markdown",
   "metadata": {},
   "source": [
    "##### KFOLD-CV \n",
    "    - for better approximation of model performance"
   ]
  },
  {
   "cell_type": "code",
   "execution_count": 93,
   "metadata": {},
   "outputs": [],
   "source": [
    "kf=KFold(n_splits=5,shuffle=True,random_state=0)"
   ]
  },
  {
   "cell_type": "markdown",
   "metadata": {},
   "source": [
    "##### Scoring Metric - Accuracy"
   ]
  },
  {
   "cell_type": "code",
   "execution_count": 95,
   "metadata": {},
   "outputs": [
    {
     "name": "stdout",
     "output_type": "stream",
     "text": [
      "LR 0.7763235294117646 0.009922217324861284\n",
      "DT 0.8118235294117648 0.006373261071002007\n",
      "RF 0.8484705882352941 0.0035530636605847787\n",
      "Ada 0.8309411764705883 0.007521570570716817\n",
      "GradB 0.8441470588235294 0.0062028531295627775\n",
      "XGB 0.8634117647058822 0.0057993895476306\n",
      "MNB 0.7163823529411765 0.0064597608622464055\n"
     ]
    }
   ],
   "source": [
    "model = []\n",
    "ba = []\n",
    "cov = []\n",
    "for i,j in zip([clf1,clf2,clf3,clf4,clf5,clf6,clf7],['LR','DT','RF','Ada','GradB','XGB','MNB']):\n",
    "    score = cross_val_score(i, inp_bal, out_bal, cv=kf, scoring = 'accuracy')\n",
    "    print(j,np.mean(score),np.std(score)/np.mean(score))\n",
    "    model.append(j)\n",
    "    ba.append(np.mean(score))\n",
    "    cov.append(np.std(score)/np.mean(score))"
   ]
  },
  {
   "cell_type": "markdown",
   "metadata": {},
   "source": [
    "##### Scoring Metric - ROC-AUC"
   ]
  },
  {
   "cell_type": "code",
   "execution_count": 97,
   "metadata": {},
   "outputs": [
    {
     "name": "stdout",
     "output_type": "stream",
     "text": [
      "LR 0.8606911360732831 0.007417797931302512\n",
      "DT 0.8183443107388391 0.0065281262331160625\n",
      "RF 0.9252242469013288 0.004338817905089724\n",
      "Ada 0.9181189083309874 0.00335152586857573\n",
      "GradB 0.9270557515846118 0.003465117267518672\n",
      "XGB 0.9418290528786073 0.002496789444267689\n",
      "MNB 0.459597909949278 0.008664479718077421\n"
     ]
    }
   ],
   "source": [
    "model1 = []\n",
    "ba1 = []\n",
    "cov1 = []\n",
    "for i,j in zip([clf1,clf2,clf3,clf4,clf5,clf6,clf7],['LR','DT','RF','Ada','GradB','XGB','MNB']):\n",
    "    score = cross_val_score(i, inp_bal, out_bal, cv=kf, scoring = 'roc_auc')\n",
    "    print(j,np.mean(score),np.std(score)/np.mean(score))\n",
    "    model1.append(j)\n",
    "    ba1.append(np.mean(score))\n",
    "    cov1.append(np.std(score)/np.mean(score))"
   ]
  },
  {
   "cell_type": "markdown",
   "metadata": {},
   "source": [
    "##### Scoring Metric - F1"
   ]
  },
  {
   "cell_type": "code",
   "execution_count": 98,
   "metadata": {},
   "outputs": [
    {
     "name": "stdout",
     "output_type": "stream",
     "text": [
      "LR 0.7075012498825328 0.011745645320430025\n",
      "DT 0.7694426751917728 0.008581666190991514\n",
      "RF 0.8120896069141599 0.0033391392282300174\n",
      "Ada 0.7884545132117757 0.00846237319220838\n",
      "GradB 0.8049747770637898 0.008393696605830886\n",
      "XGB 0.8298394189185666 0.006782772106901683\n",
      "MNB 0.476489808714624 0.017286254017726745\n"
     ]
    }
   ],
   "source": [
    "model2 = []\n",
    "ba2 = []\n",
    "cov2 = []\n",
    "for i,j in zip([clf1,clf2,clf3,clf4,clf5,clf6,clf7],['LR','DT','RF','Ada','GradB','XGB','MNB']):\n",
    "    score = cross_val_score(i, inp_bal, out_bal, cv=kf, scoring = 'f1')\n",
    "    print(j,np.mean(score),np.std(score)/np.mean(score))\n",
    "    model2.append(j)\n",
    "    ba2.append(np.mean(score))\n",
    "    cov2.append(np.std(score)/np.mean(score))"
   ]
  },
  {
   "cell_type": "markdown",
   "metadata": {},
   "source": [
    "##### Scoring Metric - ROC_AUC \n",
    "    - Imbalanced data"
   ]
  },
  {
   "cell_type": "code",
   "execution_count": 99,
   "metadata": {},
   "outputs": [
    {
     "name": "stdout",
     "output_type": "stream",
     "text": [
      "LR 0.8329025217047892 0.0029914121425528655\n",
      "DT 0.7717857155107657 0.00807598945805628\n",
      "RF 0.9033467342278468 0.002659163283869701\n",
      "Ada 0.9157695147449099 0.002124955651285909\n",
      "GradB 0.923580199126801 0.0026313599738155965\n",
      "XGB 0.9305554251294861 0.0027959411482692824\n",
      "MNB 0.3493044994095814 0.020102439629811713\n"
     ]
    }
   ],
   "source": [
    "model3 = []\n",
    "ba3 = []\n",
    "cov3 = []\n",
    "for i,j in zip([clf1,clf2,clf3,clf4,clf5,clf6,clf7],['LR','DT','RF','Ada','GradB','XGB','MNB']):\n",
    "    score = cross_val_score(i, inp, out, cv=kf, scoring = 'roc_auc')\n",
    "    print(j,np.mean(score),np.std(score)/np.mean(score))\n",
    "    model3.append(j)\n",
    "    ba3.append(np.mean(score))\n",
    "    cov3.append(np.std(score)/np.mean(score))"
   ]
  },
  {
   "cell_type": "code",
   "execution_count": 120,
   "metadata": {},
   "outputs": [
    {
     "data": {
      "text/html": [
       "<div>\n",
       "<style scoped>\n",
       "    .dataframe tbody tr th:only-of-type {\n",
       "        vertical-align: middle;\n",
       "    }\n",
       "\n",
       "    .dataframe tbody tr th {\n",
       "        vertical-align: top;\n",
       "    }\n",
       "\n",
       "    .dataframe thead th {\n",
       "        text-align: right;\n",
       "    }\n",
       "</style>\n",
       "<table border=\"1\" class=\"dataframe\">\n",
       "  <thead>\n",
       "    <tr style=\"text-align: right;\">\n",
       "      <th></th>\n",
       "      <th></th>\n",
       "      <th>LR</th>\n",
       "      <th>DT</th>\n",
       "      <th>RF</th>\n",
       "      <th>Ada</th>\n",
       "      <th>GradB</th>\n",
       "      <th>XGB</th>\n",
       "      <th>MNB</th>\n",
       "    </tr>\n",
       "    <tr>\n",
       "      <th>Metrix</th>\n",
       "      <th>Score</th>\n",
       "      <th></th>\n",
       "      <th></th>\n",
       "      <th></th>\n",
       "      <th></th>\n",
       "      <th></th>\n",
       "      <th></th>\n",
       "      <th></th>\n",
       "    </tr>\n",
       "  </thead>\n",
       "  <tbody>\n",
       "    <tr>\n",
       "      <th rowspan=\"2\" valign=\"top\">Accuracy</th>\n",
       "      <th>BA</th>\n",
       "      <td>0.776324</td>\n",
       "      <td>0.811824</td>\n",
       "      <td>0.848471</td>\n",
       "      <td>0.830941</td>\n",
       "      <td>0.844147</td>\n",
       "      <td>0.863412</td>\n",
       "      <td>0.716382</td>\n",
       "    </tr>\n",
       "    <tr>\n",
       "      <th>Coef_Var</th>\n",
       "      <td>0.009922</td>\n",
       "      <td>0.006373</td>\n",
       "      <td>0.003553</td>\n",
       "      <td>0.007522</td>\n",
       "      <td>0.006203</td>\n",
       "      <td>0.005799</td>\n",
       "      <td>0.006460</td>\n",
       "    </tr>\n",
       "    <tr>\n",
       "      <th rowspan=\"2\" valign=\"top\">roc_auc</th>\n",
       "      <th>BA</th>\n",
       "      <td>0.860691</td>\n",
       "      <td>0.818344</td>\n",
       "      <td>0.925224</td>\n",
       "      <td>0.918119</td>\n",
       "      <td>0.927056</td>\n",
       "      <td>0.941829</td>\n",
       "      <td>0.459598</td>\n",
       "    </tr>\n",
       "    <tr>\n",
       "      <th>Coef_Var</th>\n",
       "      <td>0.007418</td>\n",
       "      <td>0.006528</td>\n",
       "      <td>0.004339</td>\n",
       "      <td>0.003352</td>\n",
       "      <td>0.003465</td>\n",
       "      <td>0.002497</td>\n",
       "      <td>0.008664</td>\n",
       "    </tr>\n",
       "    <tr>\n",
       "      <th rowspan=\"2\" valign=\"top\">f1</th>\n",
       "      <th>BA</th>\n",
       "      <td>0.707501</td>\n",
       "      <td>0.769443</td>\n",
       "      <td>0.812090</td>\n",
       "      <td>0.788455</td>\n",
       "      <td>0.804975</td>\n",
       "      <td>0.829839</td>\n",
       "      <td>0.476490</td>\n",
       "    </tr>\n",
       "    <tr>\n",
       "      <th>Coef_Var</th>\n",
       "      <td>0.011746</td>\n",
       "      <td>0.008582</td>\n",
       "      <td>0.003339</td>\n",
       "      <td>0.008462</td>\n",
       "      <td>0.008394</td>\n",
       "      <td>0.006783</td>\n",
       "      <td>0.017286</td>\n",
       "    </tr>\n",
       "    <tr>\n",
       "      <th rowspan=\"2\" valign=\"top\">roc_auc (imb)</th>\n",
       "      <th>BA</th>\n",
       "      <td>0.832903</td>\n",
       "      <td>0.771786</td>\n",
       "      <td>0.903347</td>\n",
       "      <td>0.915770</td>\n",
       "      <td>0.923580</td>\n",
       "      <td>0.930555</td>\n",
       "      <td>0.349304</td>\n",
       "    </tr>\n",
       "    <tr>\n",
       "      <th>Coef_Var</th>\n",
       "      <td>0.002991</td>\n",
       "      <td>0.008076</td>\n",
       "      <td>0.002659</td>\n",
       "      <td>0.002125</td>\n",
       "      <td>0.002631</td>\n",
       "      <td>0.002796</td>\n",
       "      <td>0.020102</td>\n",
       "    </tr>\n",
       "  </tbody>\n",
       "</table>\n",
       "</div>"
      ],
      "text/plain": [
       "                              LR        DT        RF       Ada     GradB  \\\n",
       "Metrix        Score                                                        \n",
       "Accuracy      BA        0.776324  0.811824  0.848471  0.830941  0.844147   \n",
       "              Coef_Var  0.009922  0.006373  0.003553  0.007522  0.006203   \n",
       "roc_auc       BA        0.860691  0.818344  0.925224  0.918119  0.927056   \n",
       "              Coef_Var  0.007418  0.006528  0.004339  0.003352  0.003465   \n",
       "f1            BA        0.707501  0.769443  0.812090  0.788455  0.804975   \n",
       "              Coef_Var  0.011746  0.008582  0.003339  0.008462  0.008394   \n",
       "roc_auc (imb) BA        0.832903  0.771786  0.903347  0.915770  0.923580   \n",
       "              Coef_Var  0.002991  0.008076  0.002659  0.002125  0.002631   \n",
       "\n",
       "                             XGB       MNB  \n",
       "Metrix        Score                         \n",
       "Accuracy      BA        0.863412  0.716382  \n",
       "              Coef_Var  0.005799  0.006460  \n",
       "roc_auc       BA        0.941829  0.459598  \n",
       "              Coef_Var  0.002497  0.008664  \n",
       "f1            BA        0.829839  0.476490  \n",
       "              Coef_Var  0.006783  0.017286  \n",
       "roc_auc (imb) BA        0.930555  0.349304  \n",
       "              Coef_Var  0.002796  0.020102  "
      ]
     },
     "execution_count": 120,
     "metadata": {},
     "output_type": "execute_result"
    }
   ],
   "source": [
    "iterables = [['Accuracy','roc_auc','f1','roc_auc (imb)'],['BA','Coef_Var']]\n",
    "indexx = pd.MultiIndex.from_product(iterables, names=['Metrix', 'Score'])\n",
    "\n",
    "result_comparison = pd.DataFrame([ba,cov,ba1,cov1,ba2,cov2, ba3,cov3], columns = model)\n",
    "\n",
    "result_comparison.set_index(indexx, inplace=True)\n",
    "\n",
    "result_comparison"
   ]
  },
  {
   "cell_type": "markdown",
   "metadata": {},
   "source": [
    "##### XGB and RF\n",
    "  - ROC_AUC"
   ]
  },
  {
   "cell_type": "code",
   "execution_count": 123,
   "metadata": {},
   "outputs": [
    {
     "data": {
      "text/plain": [
       "(1.6600000000000108, -0.1842)"
      ]
     },
     "execution_count": 123,
     "metadata": {},
     "output_type": "execute_result"
    }
   ],
   "source": [
    "94.18 - 92.52, 0.2497 - 0.4339"
   ]
  },
  {
   "cell_type": "markdown",
   "metadata": {},
   "source": [
    "##### XGB and RF \n",
    "- Accuracy"
   ]
  },
  {
   "cell_type": "code",
   "execution_count": 121,
   "metadata": {},
   "outputs": [
    {
     "data": {
      "text/plain": [
       "(1.5, 0.22459999999999997)"
      ]
     },
     "execution_count": 121,
     "metadata": {},
     "output_type": "execute_result"
    }
   ],
   "source": [
    "86.34 - 84.84, 0.5799 - 0.3553"
   ]
  },
  {
   "cell_type": "markdown",
   "metadata": {},
   "source": [
    "##### XGB and RF\n",
    "- F1"
   ]
  },
  {
   "cell_type": "code",
   "execution_count": 122,
   "metadata": {},
   "outputs": [
    {
     "data": {
      "text/plain": [
       "(1.7800000000000011, 0.34440000000000004)"
      ]
     },
     "execution_count": 122,
     "metadata": {},
     "output_type": "execute_result"
    }
   ],
   "source": [
    "82.98 - 81.2, 0.6783 - 0.3339"
   ]
  },
  {
   "cell_type": "markdown",
   "metadata": {},
   "source": [
    "- Inferences:\n",
    "    - XGB model outperforms all the other models. \n",
    "    - RandomForest model's scores are very close to XGB model.\n",
    "        - On comparing their scores' differences, XGB model's trade-off on Bias accuracy and Coefficient of Variance is better.\n",
    "        - Therefore, going ahead with XGBClassifier model"
   ]
  },
  {
   "cell_type": "markdown",
   "metadata": {},
   "source": [
    "<a id=\"base\"></a>\n",
    "### Non-Linear Models\n",
    "###### XGBClassifier"
   ]
  },
  {
   "cell_type": "code",
   "execution_count": 124,
   "metadata": {},
   "outputs": [],
   "source": [
    "XGB = XGBClassifier(random_state = 20)\n",
    "XGB.fit(xtrain,ytrain)\n",
    "ypred=XGB.predict(xtest)"
   ]
  },
  {
   "cell_type": "code",
   "execution_count": 125,
   "metadata": {},
   "outputs": [],
   "source": [
    "feat_imp=pd.DataFrame()\n",
    "feat_imp['Feature']=xtrain.columns\n",
    "feat_imp['Importance']=XGB.feature_importances_"
   ]
  },
  {
   "cell_type": "code",
   "execution_count": 126,
   "metadata": {},
   "outputs": [
    {
     "data": {
      "text/html": [
       "<div>\n",
       "<style scoped>\n",
       "    .dataframe tbody tr th:only-of-type {\n",
       "        vertical-align: middle;\n",
       "    }\n",
       "\n",
       "    .dataframe tbody tr th {\n",
       "        vertical-align: top;\n",
       "    }\n",
       "\n",
       "    .dataframe thead th {\n",
       "        text-align: right;\n",
       "    }\n",
       "</style>\n",
       "<table border=\"1\" class=\"dataframe\">\n",
       "  <thead>\n",
       "    <tr style=\"text-align: right;\">\n",
       "      <th></th>\n",
       "      <th>Feature</th>\n",
       "      <th>Importance</th>\n",
       "    </tr>\n",
       "  </thead>\n",
       "  <tbody>\n",
       "    <tr>\n",
       "      <th>6</th>\n",
       "      <td>Martial_Status</td>\n",
       "      <td>0.309187</td>\n",
       "    </tr>\n",
       "    <tr>\n",
       "      <th>2</th>\n",
       "      <td>Capital_Gain</td>\n",
       "      <td>0.293996</td>\n",
       "    </tr>\n",
       "    <tr>\n",
       "      <th>3</th>\n",
       "      <td>Capital_Loss</td>\n",
       "      <td>0.106948</td>\n",
       "    </tr>\n",
       "    <tr>\n",
       "      <th>1</th>\n",
       "      <td>Education_Num</td>\n",
       "      <td>0.066022</td>\n",
       "    </tr>\n",
       "    <tr>\n",
       "      <th>8</th>\n",
       "      <td>Relationship</td>\n",
       "      <td>0.048568</td>\n",
       "    </tr>\n",
       "    <tr>\n",
       "      <th>7</th>\n",
       "      <td>Occupation</td>\n",
       "      <td>0.036796</td>\n",
       "    </tr>\n",
       "    <tr>\n",
       "      <th>13</th>\n",
       "      <td>Race_Other</td>\n",
       "      <td>0.021402</td>\n",
       "    </tr>\n",
       "    <tr>\n",
       "      <th>10</th>\n",
       "      <td>Gender_Male</td>\n",
       "      <td>0.019948</td>\n",
       "    </tr>\n",
       "    <tr>\n",
       "      <th>0</th>\n",
       "      <td>Age</td>\n",
       "      <td>0.019784</td>\n",
       "    </tr>\n",
       "    <tr>\n",
       "      <th>5</th>\n",
       "      <td>Workclass</td>\n",
       "      <td>0.018311</td>\n",
       "    </tr>\n",
       "    <tr>\n",
       "      <th>12</th>\n",
       "      <td>Race_Black</td>\n",
       "      <td>0.017643</td>\n",
       "    </tr>\n",
       "    <tr>\n",
       "      <th>4</th>\n",
       "      <td>Hours_per_week</td>\n",
       "      <td>0.014180</td>\n",
       "    </tr>\n",
       "    <tr>\n",
       "      <th>11</th>\n",
       "      <td>Race_Asian-Pac-Islander</td>\n",
       "      <td>0.009632</td>\n",
       "    </tr>\n",
       "    <tr>\n",
       "      <th>9</th>\n",
       "      <td>Country</td>\n",
       "      <td>0.008933</td>\n",
       "    </tr>\n",
       "    <tr>\n",
       "      <th>14</th>\n",
       "      <td>Race_White</td>\n",
       "      <td>0.008650</td>\n",
       "    </tr>\n",
       "  </tbody>\n",
       "</table>\n",
       "</div>"
      ],
      "text/plain": [
       "                    Feature  Importance\n",
       "6            Martial_Status    0.309187\n",
       "2              Capital_Gain    0.293996\n",
       "3              Capital_Loss    0.106948\n",
       "1             Education_Num    0.066022\n",
       "8              Relationship    0.048568\n",
       "7                Occupation    0.036796\n",
       "13               Race_Other    0.021402\n",
       "10              Gender_Male    0.019948\n",
       "0                       Age    0.019784\n",
       "5                 Workclass    0.018311\n",
       "12               Race_Black    0.017643\n",
       "4            Hours_per_week    0.014180\n",
       "11  Race_Asian-Pac-Islander    0.009632\n",
       "9                   Country    0.008933\n",
       "14               Race_White    0.008650"
      ]
     },
     "execution_count": 126,
     "metadata": {},
     "output_type": "execute_result"
    }
   ],
   "source": [
    "feat_imp.sort_values('Importance',ascending=False)"
   ]
  },
  {
   "cell_type": "markdown",
   "metadata": {},
   "source": [
    "- Inferences:\n",
    "    - Marital Status and Capital Gain seem to be the most important features that have impact on the salary groups.\n",
    "    - Race, Country, Workclass, age and hours-per-week appear to be least important features."
   ]
  },
  {
   "cell_type": "markdown",
   "metadata": {},
   "source": [
    "<a id=\"hyp\"></a>\n",
    "## Hyperparameter tuning"
   ]
  },
  {
   "cell_type": "code",
   "execution_count": 128,
   "metadata": {
    "scrolled": true
   },
   "outputs": [
    {
     "name": "stdout",
     "output_type": "stream",
     "text": [
      "\n",
      "n_estimator: 5\n",
      "Bias Error 0.21685560484328958\n",
      "Variance Error 0.0070121085716451466\n",
      "\n",
      "n_estimator: 10\n",
      "Bias Error 0.1988870429397167\n",
      "Variance Error 0.008454735290311054\n",
      "\n",
      "n_estimator: 20\n",
      "Bias Error 0.18702668701644798\n",
      "Variance Error 0.007310218530937616\n",
      "\n",
      "n_estimator: 40\n",
      "Bias Error 0.1738979775790923\n",
      "Variance Error 0.008044119573374949\n",
      "\n",
      "n_estimator: 60\n",
      "Bias Error 0.17176049686773798\n",
      "Variance Error 0.00635852661310569\n",
      "\n",
      "n_estimator: 80\n",
      "Bias Error 0.17057721257197256\n",
      "Variance Error 0.008184913363546174\n",
      "\n",
      "n_estimator: 100\n",
      "Bias Error 0.1701605810814334\n",
      "Variance Error 0.006782772106901683\n",
      "\n",
      "n_estimator: 120\n",
      "Bias Error 0.1677628539147038\n",
      "Variance Error 0.005891360845702134\n",
      "\n",
      "n_estimator: 150\n",
      "Bias Error 0.16860194395997508\n",
      "Variance Error 0.00692555610061548\n",
      "\n",
      "n_estimator: 200\n",
      "Bias Error 0.1685123872608001\n",
      "Variance Error 0.007683859258159628\n",
      "\n",
      "n_estimator: 250\n",
      "Bias Error 0.17013208902226162\n",
      "Variance Error 0.00866242995649562\n",
      "\n",
      "n_estimator: 300\n",
      "Bias Error 0.17153652340517045\n",
      "Variance Error 0.006245460398174351\n",
      "\n",
      "n_estimator: 400\n",
      "Bias Error 0.17246160488570506\n",
      "Variance Error 0.005400561589777645\n"
     ]
    }
   ],
   "source": [
    "# Parameter Tuning\n",
    "be=[]\n",
    "ve=[]\n",
    "for i in [5,10,20,40,60,80,100,120,150,200,250,300,400]:\n",
    "    XGB = XGBClassifier(n_estimators=i,random_state=20)\n",
    "    score=cross_val_score(XGB,inp_bal,out_bal,cv=kf,scoring='f1')\n",
    "    print('\\nn_estimator:',i)\n",
    "    print('Bias Error',1-np.mean(score))\n",
    "    print('Variance Error',np.std(score)/np.mean(score))\n",
    "    be.append(1-np.mean(score))\n",
    "    ve.append(np.std(score)/np.mean(score))"
   ]
  },
  {
   "cell_type": "code",
   "execution_count": 129,
   "metadata": {},
   "outputs": [
    {
     "data": {
      "text/plain": [
       "[<matplotlib.lines.Line2D at 0x22991f994f0>]"
      ]
     },
     "execution_count": 129,
     "metadata": {},
     "output_type": "execute_result"
    },
    {
     "data": {
      "image/png": "[encoded data removed]",
      "text/plain": [
       "<Figure size 432x288 with 1 Axes>"
      ]
     },
     "metadata": {
      "needs_background": "light"
     },
     "output_type": "display_data"
    }
   ],
   "source": [
    "from matplotlib import pyplot as plt\n",
    "plt.plot([5,10,20,40,60,80,100,120,150,200,250,300,400],be)"
   ]
  },
  {
   "cell_type": "code",
   "execution_count": 130,
   "metadata": {},
   "outputs": [
    {
     "data": {
      "text/plain": [
       "[<matplotlib.lines.Line2D at 0x22992045f10>]"
      ]
     },
     "execution_count": 130,
     "metadata": {},
     "output_type": "execute_result"
    },
    {
     "data": {
      "image/png": "[encoded data removed]",
      "text/plain": [
       "<Figure size 432x288 with 1 Axes>"
      ]
     },
     "metadata": {
      "needs_background": "light"
     },
     "output_type": "display_data"
    }
   ],
   "source": [
    "plt.plot([5,10,20,40,60,80,100,120,150,200,250,300,400],ve)"
   ]
  },
  {
   "cell_type": "code",
   "execution_count": 131,
   "metadata": {},
   "outputs": [],
   "source": [
    "be1=pd.DataFrame(be)/pd.DataFrame(be).sum()\n",
    "ve1=pd.DataFrame(ve)/pd.DataFrame(ve).sum()"
   ]
  },
  {
   "cell_type": "code",
   "execution_count": 132,
   "metadata": {},
   "outputs": [
    {
     "data": {
      "text/plain": [
       "[<matplotlib.lines.Line2D at 0x22992070a30>]"
      ]
     },
     "execution_count": 132,
     "metadata": {},
     "output_type": "execute_result"
    },
    {
     "data": {
      "image/png": "[encoded data removed]",
      "text/plain": [
       "<Figure size 432x288 with 1 Axes>"
      ]
     },
     "metadata": {
      "needs_background": "light"
     },
     "output_type": "display_data"
    }
   ],
   "source": [
    "plt.plot([5,10,20,40,60,80,100,120,150,200,250,300,400],be1)\n",
    "plt.plot([5,10,20,40,60,80,100,120,150,200,250,300,400],ve1)"
   ]
  },
  {
   "cell_type": "markdown",
   "metadata": {},
   "source": [
    "#####  Inference:\n",
    "    - At n_estimator = 120, bias error and coefficient of variance appear to be low and have a good trade-off.\n",
    "    - Therefore, n_estimators = 120."
   ]
  },
  {
   "cell_type": "code",
   "execution_count": 137,
   "metadata": {},
   "outputs": [],
   "source": [
    "# Grid Search CV\n",
    "from sklearn.model_selection import GridSearchCV\n",
    "\n",
    "params={'n_estimators':[120],\n",
    "        \"learning_rate\":[0.01,0.1,1,10,100],\n",
    "        'max_depth':[10,15,20,25,30,40]}\n",
    "\n",
    "XGB_mod1 = XGBClassifier()\n",
    "hyp_mod=GridSearchCV(XGB_mod1,param_grid=params,scoring='f1', cv=kf)\n",
    "\n",
    "tun_mod=hyp_mod.fit(xtrain,ytrain)"
   ]
  },
  {
   "cell_type": "code",
   "execution_count": 138,
   "metadata": {},
   "outputs": [
    {
     "data": {
      "text/plain": [
       "{'learning_rate': 0.1, 'max_depth': 10, 'n_estimators': 120}"
      ]
     },
     "execution_count": 138,
     "metadata": {},
     "output_type": "execute_result"
    }
   ],
   "source": [
    "tun_mod.best_params_"
   ]
  },
  {
   "cell_type": "code",
   "execution_count": 139,
   "metadata": {},
   "outputs": [
    {
     "data": {
      "text/plain": [
       "0.8248822504113532"
      ]
     },
     "execution_count": 139,
     "metadata": {},
     "output_type": "execute_result"
    }
   ],
   "source": [
    "tun_mod.best_score_"
   ]
  },
  {
   "cell_type": "code",
   "execution_count": 140,
   "metadata": {},
   "outputs": [
    {
     "data": {
      "text/plain": [
       "(30, 16)"
      ]
     },
     "execution_count": 140,
     "metadata": {},
     "output_type": "execute_result"
    }
   ],
   "source": [
    "res=pd.DataFrame(tun_mod.cv_results_)\n",
    "res.shape"
   ]
  },
  {
   "cell_type": "code",
   "execution_count": 141,
   "metadata": {},
   "outputs": [
    {
     "data": {
      "text/html": [
       "<div>\n",
       "<style scoped>\n",
       "    .dataframe tbody tr th:only-of-type {\n",
       "        vertical-align: middle;\n",
       "    }\n",
       "\n",
       "    .dataframe tbody tr th {\n",
       "        vertical-align: top;\n",
       "    }\n",
       "\n",
       "    .dataframe thead th {\n",
       "        text-align: right;\n",
       "    }\n",
       "</style>\n",
       "<table border=\"1\" class=\"dataframe\">\n",
       "  <thead>\n",
       "    <tr style=\"text-align: right;\">\n",
       "      <th></th>\n",
       "      <th>mean_fit_time</th>\n",
       "      <th>std_fit_time</th>\n",
       "      <th>mean_score_time</th>\n",
       "      <th>std_score_time</th>\n",
       "      <th>param_learning_rate</th>\n",
       "      <th>param_max_depth</th>\n",
       "      <th>param_n_estimators</th>\n",
       "      <th>params</th>\n",
       "      <th>split0_test_score</th>\n",
       "      <th>split1_test_score</th>\n",
       "      <th>split2_test_score</th>\n",
       "      <th>split3_test_score</th>\n",
       "      <th>split4_test_score</th>\n",
       "      <th>mean_test_score</th>\n",
       "      <th>std_test_score</th>\n",
       "      <th>rank_test_score</th>\n",
       "    </tr>\n",
       "  </thead>\n",
       "  <tbody>\n",
       "    <tr>\n",
       "      <th>0</th>\n",
       "      <td>1.784824</td>\n",
       "      <td>0.064399</td>\n",
       "      <td>0.029717</td>\n",
       "      <td>0.005166</td>\n",
       "      <td>0.01</td>\n",
       "      <td>10</td>\n",
       "      <td>120</td>\n",
       "      <td>{'learning_rate': 0.01, 'max_depth': 10, 'n_es...</td>\n",
       "      <td>0.806838</td>\n",
       "      <td>0.802658</td>\n",
       "      <td>0.798668</td>\n",
       "      <td>0.803257</td>\n",
       "      <td>0.797900</td>\n",
       "      <td>0.801864</td>\n",
       "      <td>0.003263</td>\n",
       "      <td>8</td>\n",
       "    </tr>\n",
       "    <tr>\n",
       "      <th>1</th>\n",
       "      <td>2.913876</td>\n",
       "      <td>0.103500</td>\n",
       "      <td>0.041049</td>\n",
       "      <td>0.011148</td>\n",
       "      <td>0.01</td>\n",
       "      <td>15</td>\n",
       "      <td>120</td>\n",
       "      <td>{'learning_rate': 0.01, 'max_depth': 15, 'n_es...</td>\n",
       "      <td>0.812966</td>\n",
       "      <td>0.804478</td>\n",
       "      <td>0.793388</td>\n",
       "      <td>0.803236</td>\n",
       "      <td>0.797604</td>\n",
       "      <td>0.802334</td>\n",
       "      <td>0.006646</td>\n",
       "      <td>7</td>\n",
       "    </tr>\n",
       "    <tr>\n",
       "      <th>2</th>\n",
       "      <td>3.560577</td>\n",
       "      <td>0.099434</td>\n",
       "      <td>0.044422</td>\n",
       "      <td>0.002654</td>\n",
       "      <td>0.01</td>\n",
       "      <td>20</td>\n",
       "      <td>120</td>\n",
       "      <td>{'learning_rate': 0.01, 'max_depth': 20, 'n_es...</td>\n",
       "      <td>0.811437</td>\n",
       "      <td>0.801347</td>\n",
       "      <td>0.798257</td>\n",
       "      <td>0.799685</td>\n",
       "      <td>0.790807</td>\n",
       "      <td>0.800307</td>\n",
       "      <td>0.006630</td>\n",
       "      <td>9</td>\n",
       "    </tr>\n",
       "    <tr>\n",
       "      <th>3</th>\n",
       "      <td>4.139391</td>\n",
       "      <td>0.197639</td>\n",
       "      <td>0.045914</td>\n",
       "      <td>0.004842</td>\n",
       "      <td>0.01</td>\n",
       "      <td>25</td>\n",
       "      <td>120</td>\n",
       "      <td>{'learning_rate': 0.01, 'max_depth': 25, 'n_es...</td>\n",
       "      <td>0.809561</td>\n",
       "      <td>0.796263</td>\n",
       "      <td>0.799794</td>\n",
       "      <td>0.799790</td>\n",
       "      <td>0.786851</td>\n",
       "      <td>0.798452</td>\n",
       "      <td>0.007299</td>\n",
       "      <td>13</td>\n",
       "    </tr>\n",
       "    <tr>\n",
       "      <th>4</th>\n",
       "      <td>4.745063</td>\n",
       "      <td>0.328409</td>\n",
       "      <td>0.054406</td>\n",
       "      <td>0.010000</td>\n",
       "      <td>0.01</td>\n",
       "      <td>30</td>\n",
       "      <td>120</td>\n",
       "      <td>{'learning_rate': 0.01, 'max_depth': 30, 'n_es...</td>\n",
       "      <td>0.806684</td>\n",
       "      <td>0.795225</td>\n",
       "      <td>0.799897</td>\n",
       "      <td>0.801573</td>\n",
       "      <td>0.785807</td>\n",
       "      <td>0.797837</td>\n",
       "      <td>0.007043</td>\n",
       "      <td>15</td>\n",
       "    </tr>\n",
       "    <tr>\n",
       "      <th>5</th>\n",
       "      <td>4.604132</td>\n",
       "      <td>0.152796</td>\n",
       "      <td>0.046398</td>\n",
       "      <td>0.007774</td>\n",
       "      <td>0.01</td>\n",
       "      <td>40</td>\n",
       "      <td>120</td>\n",
       "      <td>{'learning_rate': 0.01, 'max_depth': 40, 'n_es...</td>\n",
       "      <td>0.806684</td>\n",
       "      <td>0.795225</td>\n",
       "      <td>0.799897</td>\n",
       "      <td>0.801573</td>\n",
       "      <td>0.785286</td>\n",
       "      <td>0.797733</td>\n",
       "      <td>0.007222</td>\n",
       "      <td>16</td>\n",
       "    </tr>\n",
       "    <tr>\n",
       "      <th>6</th>\n",
       "      <td>1.672955</td>\n",
       "      <td>0.043611</td>\n",
       "      <td>0.033406</td>\n",
       "      <td>0.004572</td>\n",
       "      <td>0.1</td>\n",
       "      <td>10</td>\n",
       "      <td>120</td>\n",
       "      <td>{'learning_rate': 0.1, 'max_depth': 10, 'n_est...</td>\n",
       "      <td>0.835905</td>\n",
       "      <td>0.817900</td>\n",
       "      <td>0.820196</td>\n",
       "      <td>0.828113</td>\n",
       "      <td>0.822298</td>\n",
       "      <td>0.824882</td>\n",
       "      <td>0.006471</td>\n",
       "      <td>1</td>\n",
       "    </tr>\n",
       "    <tr>\n",
       "      <th>7</th>\n",
       "      <td>2.749372</td>\n",
       "      <td>0.104306</td>\n",
       "      <td>0.046094</td>\n",
       "      <td>0.009666</td>\n",
       "      <td>0.1</td>\n",
       "      <td>15</td>\n",
       "      <td>120</td>\n",
       "      <td>{'learning_rate': 0.1, 'max_depth': 15, 'n_est...</td>\n",
       "      <td>0.826948</td>\n",
       "      <td>0.812143</td>\n",
       "      <td>0.811662</td>\n",
       "      <td>0.823220</td>\n",
       "      <td>0.805577</td>\n",
       "      <td>0.815910</td>\n",
       "      <td>0.007928</td>\n",
       "      <td>2</td>\n",
       "    </tr>\n",
       "    <tr>\n",
       "      <th>8</th>\n",
       "      <td>3.520853</td>\n",
       "      <td>0.032959</td>\n",
       "      <td>0.048159</td>\n",
       "      <td>0.003059</td>\n",
       "      <td>0.1</td>\n",
       "      <td>20</td>\n",
       "      <td>120</td>\n",
       "      <td>{'learning_rate': 0.1, 'max_depth': 20, 'n_est...</td>\n",
       "      <td>0.820988</td>\n",
       "      <td>0.805512</td>\n",
       "      <td>0.809180</td>\n",
       "      <td>0.812829</td>\n",
       "      <td>0.805202</td>\n",
       "      <td>0.810742</td>\n",
       "      <td>0.005828</td>\n",
       "      <td>3</td>\n",
       "    </tr>\n",
       "    <tr>\n",
       "      <th>9</th>\n",
       "      <td>4.394883</td>\n",
       "      <td>0.151111</td>\n",
       "      <td>0.051507</td>\n",
       "      <td>0.001026</td>\n",
       "      <td>0.1</td>\n",
       "      <td>25</td>\n",
       "      <td>120</td>\n",
       "      <td>{'learning_rate': 0.1, 'max_depth': 25, 'n_est...</td>\n",
       "      <td>0.817503</td>\n",
       "      <td>0.803947</td>\n",
       "      <td>0.807027</td>\n",
       "      <td>0.810399</td>\n",
       "      <td>0.808060</td>\n",
       "      <td>0.809387</td>\n",
       "      <td>0.004557</td>\n",
       "      <td>4</td>\n",
       "    </tr>\n",
       "    <tr>\n",
       "      <th>10</th>\n",
       "      <td>4.899744</td>\n",
       "      <td>0.058352</td>\n",
       "      <td>0.056334</td>\n",
       "      <td>0.003479</td>\n",
       "      <td>0.1</td>\n",
       "      <td>30</td>\n",
       "      <td>120</td>\n",
       "      <td>{'learning_rate': 0.1, 'max_depth': 30, 'n_est...</td>\n",
       "      <td>0.814701</td>\n",
       "      <td>0.801558</td>\n",
       "      <td>0.805148</td>\n",
       "      <td>0.808499</td>\n",
       "      <td>0.799274</td>\n",
       "      <td>0.805836</td>\n",
       "      <td>0.005432</td>\n",
       "      <td>5</td>\n",
       "    </tr>\n",
       "    <tr>\n",
       "      <th>11</th>\n",
       "      <td>5.788555</td>\n",
       "      <td>0.083736</td>\n",
       "      <td>0.062384</td>\n",
       "      <td>0.003095</td>\n",
       "      <td>0.1</td>\n",
       "      <td>40</td>\n",
       "      <td>120</td>\n",
       "      <td>{'learning_rate': 0.1, 'max_depth': 40, 'n_est...</td>\n",
       "      <td>0.814738</td>\n",
       "      <td>0.803317</td>\n",
       "      <td>0.803815</td>\n",
       "      <td>0.806181</td>\n",
       "      <td>0.797817</td>\n",
       "      <td>0.805174</td>\n",
       "      <td>0.005512</td>\n",
       "      <td>6</td>\n",
       "    </tr>\n",
       "    <tr>\n",
       "      <th>12</th>\n",
       "      <td>1.690858</td>\n",
       "      <td>0.033170</td>\n",
       "      <td>0.036996</td>\n",
       "      <td>0.003771</td>\n",
       "      <td>1</td>\n",
       "      <td>10</td>\n",
       "      <td>120</td>\n",
       "      <td>{'learning_rate': 1, 'max_depth': 10, 'n_estim...</td>\n",
       "      <td>0.801231</td>\n",
       "      <td>0.796051</td>\n",
       "      <td>0.805148</td>\n",
       "      <td>0.803999</td>\n",
       "      <td>0.788190</td>\n",
       "      <td>0.798924</td>\n",
       "      <td>0.006218</td>\n",
       "      <td>11</td>\n",
       "    </tr>\n",
       "    <tr>\n",
       "      <th>13</th>\n",
       "      <td>2.555516</td>\n",
       "      <td>0.039584</td>\n",
       "      <td>0.040935</td>\n",
       "      <td>0.000916</td>\n",
       "      <td>1</td>\n",
       "      <td>15</td>\n",
       "      <td>120</td>\n",
       "      <td>{'learning_rate': 1, 'max_depth': 15, 'n_estim...</td>\n",
       "      <td>0.802968</td>\n",
       "      <td>0.794528</td>\n",
       "      <td>0.802139</td>\n",
       "      <td>0.801679</td>\n",
       "      <td>0.787305</td>\n",
       "      <td>0.797724</td>\n",
       "      <td>0.006023</td>\n",
       "      <td>17</td>\n",
       "    </tr>\n",
       "    <tr>\n",
       "      <th>14</th>\n",
       "      <td>3.261405</td>\n",
       "      <td>0.037941</td>\n",
       "      <td>0.043680</td>\n",
       "      <td>0.002786</td>\n",
       "      <td>1</td>\n",
       "      <td>20</td>\n",
       "      <td>120</td>\n",
       "      <td>{'learning_rate': 1, 'max_depth': 20, 'n_estim...</td>\n",
       "      <td>0.801753</td>\n",
       "      <td>0.790289</td>\n",
       "      <td>0.800308</td>\n",
       "      <td>0.805541</td>\n",
       "      <td>0.787692</td>\n",
       "      <td>0.797117</td>\n",
       "      <td>0.006900</td>\n",
       "      <td>18</td>\n",
       "    </tr>\n",
       "    <tr>\n",
       "      <th>15</th>\n",
       "      <td>3.806441</td>\n",
       "      <td>0.015809</td>\n",
       "      <td>0.054223</td>\n",
       "      <td>0.013421</td>\n",
       "      <td>1</td>\n",
       "      <td>25</td>\n",
       "      <td>120</td>\n",
       "      <td>{'learning_rate': 1, 'max_depth': 25, 'n_estim...</td>\n",
       "      <td>0.804320</td>\n",
       "      <td>0.792161</td>\n",
       "      <td>0.803700</td>\n",
       "      <td>0.798644</td>\n",
       "      <td>0.793675</td>\n",
       "      <td>0.798500</td>\n",
       "      <td>0.004988</td>\n",
       "      <td>12</td>\n",
       "    </tr>\n",
       "    <tr>\n",
       "      <th>16</th>\n",
       "      <td>4.245763</td>\n",
       "      <td>0.100652</td>\n",
       "      <td>0.048374</td>\n",
       "      <td>0.003115</td>\n",
       "      <td>1</td>\n",
       "      <td>30</td>\n",
       "      <td>120</td>\n",
       "      <td>{'learning_rate': 1, 'max_depth': 30, 'n_estim...</td>\n",
       "      <td>0.802349</td>\n",
       "      <td>0.795425</td>\n",
       "      <td>0.797546</td>\n",
       "      <td>0.804081</td>\n",
       "      <td>0.791967</td>\n",
       "      <td>0.798274</td>\n",
       "      <td>0.004444</td>\n",
       "      <td>14</td>\n",
       "    </tr>\n",
       "    <tr>\n",
       "      <th>17</th>\n",
       "      <td>4.708810</td>\n",
       "      <td>0.066040</td>\n",
       "      <td>0.049500</td>\n",
       "      <td>0.004583</td>\n",
       "      <td>1</td>\n",
       "      <td>40</td>\n",
       "      <td>120</td>\n",
       "      <td>{'learning_rate': 1, 'max_depth': 40, 'n_estim...</td>\n",
       "      <td>0.806294</td>\n",
       "      <td>0.793921</td>\n",
       "      <td>0.798668</td>\n",
       "      <td>0.800416</td>\n",
       "      <td>0.796315</td>\n",
       "      <td>0.799123</td>\n",
       "      <td>0.004201</td>\n",
       "      <td>10</td>\n",
       "    </tr>\n",
       "    <tr>\n",
       "      <th>18</th>\n",
       "      <td>0.461646</td>\n",
       "      <td>0.097981</td>\n",
       "      <td>0.014465</td>\n",
       "      <td>0.004994</td>\n",
       "      <td>10</td>\n",
       "      <td>10</td>\n",
       "      <td>120</td>\n",
       "      <td>{'learning_rate': 10, 'max_depth': 10, 'n_esti...</td>\n",
       "      <td>0.000000</td>\n",
       "      <td>0.000000</td>\n",
       "      <td>0.701531</td>\n",
       "      <td>0.620219</td>\n",
       "      <td>0.000000</td>\n",
       "      <td>0.264350</td>\n",
       "      <td>0.324781</td>\n",
       "      <td>28</td>\n",
       "    </tr>\n",
       "    <tr>\n",
       "      <th>19</th>\n",
       "      <td>0.451165</td>\n",
       "      <td>0.017462</td>\n",
       "      <td>0.016066</td>\n",
       "      <td>0.003614</td>\n",
       "      <td>10</td>\n",
       "      <td>15</td>\n",
       "      <td>120</td>\n",
       "      <td>{'learning_rate': 10, 'max_depth': 15, 'n_esti...</td>\n",
       "      <td>0.528536</td>\n",
       "      <td>0.582490</td>\n",
       "      <td>0.000000</td>\n",
       "      <td>0.000000</td>\n",
       "      <td>0.582067</td>\n",
       "      <td>0.338619</td>\n",
       "      <td>0.277176</td>\n",
       "      <td>26</td>\n",
       "    </tr>\n",
       "    <tr>\n",
       "      <th>20</th>\n",
       "      <td>0.463080</td>\n",
       "      <td>0.014117</td>\n",
       "      <td>0.011446</td>\n",
       "      <td>0.001923</td>\n",
       "      <td>10</td>\n",
       "      <td>20</td>\n",
       "      <td>120</td>\n",
       "      <td>{'learning_rate': 10, 'max_depth': 20, 'n_esti...</td>\n",
       "      <td>0.000000</td>\n",
       "      <td>0.687325</td>\n",
       "      <td>0.584807</td>\n",
       "      <td>0.000000</td>\n",
       "      <td>0.000000</td>\n",
       "      <td>0.254426</td>\n",
       "      <td>0.313289</td>\n",
       "      <td>29</td>\n",
       "    </tr>\n",
       "    <tr>\n",
       "      <th>21</th>\n",
       "      <td>0.455685</td>\n",
       "      <td>0.003912</td>\n",
       "      <td>0.014488</td>\n",
       "      <td>0.003891</td>\n",
       "      <td>10</td>\n",
       "      <td>25</td>\n",
       "      <td>120</td>\n",
       "      <td>{'learning_rate': 10, 'max_depth': 25, 'n_esti...</td>\n",
       "      <td>0.584346</td>\n",
       "      <td>0.627132</td>\n",
       "      <td>0.676152</td>\n",
       "      <td>0.654060</td>\n",
       "      <td>0.655354</td>\n",
       "      <td>0.639409</td>\n",
       "      <td>0.031628</td>\n",
       "      <td>19</td>\n",
       "    </tr>\n",
       "    <tr>\n",
       "      <th>22</th>\n",
       "      <td>0.462588</td>\n",
       "      <td>0.009179</td>\n",
       "      <td>0.016262</td>\n",
       "      <td>0.004531</td>\n",
       "      <td>10</td>\n",
       "      <td>30</td>\n",
       "      <td>120</td>\n",
       "      <td>{'learning_rate': 10, 'max_depth': 30, 'n_esti...</td>\n",
       "      <td>0.586857</td>\n",
       "      <td>0.627936</td>\n",
       "      <td>0.676152</td>\n",
       "      <td>0.654060</td>\n",
       "      <td>0.651235</td>\n",
       "      <td>0.639248</td>\n",
       "      <td>0.030324</td>\n",
       "      <td>20</td>\n",
       "    </tr>\n",
       "    <tr>\n",
       "      <th>23</th>\n",
       "      <td>0.516623</td>\n",
       "      <td>0.070684</td>\n",
       "      <td>0.013553</td>\n",
       "      <td>0.003140</td>\n",
       "      <td>10</td>\n",
       "      <td>40</td>\n",
       "      <td>120</td>\n",
       "      <td>{'learning_rate': 10, 'max_depth': 40, 'n_esti...</td>\n",
       "      <td>0.586857</td>\n",
       "      <td>0.627936</td>\n",
       "      <td>0.676152</td>\n",
       "      <td>0.654060</td>\n",
       "      <td>0.651235</td>\n",
       "      <td>0.639248</td>\n",
       "      <td>0.030324</td>\n",
       "      <td>20</td>\n",
       "    </tr>\n",
       "    <tr>\n",
       "      <th>24</th>\n",
       "      <td>0.418918</td>\n",
       "      <td>0.007550</td>\n",
       "      <td>0.014054</td>\n",
       "      <td>0.003591</td>\n",
       "      <td>100</td>\n",
       "      <td>10</td>\n",
       "      <td>120</td>\n",
       "      <td>{'learning_rate': 100, 'max_depth': 10, 'n_est...</td>\n",
       "      <td>0.216405</td>\n",
       "      <td>0.000000</td>\n",
       "      <td>0.700000</td>\n",
       "      <td>0.514270</td>\n",
       "      <td>0.000000</td>\n",
       "      <td>0.286135</td>\n",
       "      <td>0.279978</td>\n",
       "      <td>27</td>\n",
       "    </tr>\n",
       "    <tr>\n",
       "      <th>25</th>\n",
       "      <td>0.430093</td>\n",
       "      <td>0.005784</td>\n",
       "      <td>0.016478</td>\n",
       "      <td>0.003915</td>\n",
       "      <td>100</td>\n",
       "      <td>15</td>\n",
       "      <td>120</td>\n",
       "      <td>{'learning_rate': 100, 'max_depth': 15, 'n_est...</td>\n",
       "      <td>0.620640</td>\n",
       "      <td>0.620931</td>\n",
       "      <td>0.581901</td>\n",
       "      <td>0.631839</td>\n",
       "      <td>0.000000</td>\n",
       "      <td>0.491062</td>\n",
       "      <td>0.246117</td>\n",
       "      <td>22</td>\n",
       "    </tr>\n",
       "    <tr>\n",
       "      <th>26</th>\n",
       "      <td>0.429970</td>\n",
       "      <td>0.003298</td>\n",
       "      <td>0.012069</td>\n",
       "      <td>0.004232</td>\n",
       "      <td>100</td>\n",
       "      <td>20</td>\n",
       "      <td>120</td>\n",
       "      <td>{'learning_rate': 100, 'max_depth': 20, 'n_est...</td>\n",
       "      <td>0.000000</td>\n",
       "      <td>0.000000</td>\n",
       "      <td>0.000000</td>\n",
       "      <td>0.576981</td>\n",
       "      <td>0.582067</td>\n",
       "      <td>0.231810</td>\n",
       "      <td>0.283912</td>\n",
       "      <td>30</td>\n",
       "    </tr>\n",
       "    <tr>\n",
       "      <th>27</th>\n",
       "      <td>0.501865</td>\n",
       "      <td>0.090906</td>\n",
       "      <td>0.015369</td>\n",
       "      <td>0.002948</td>\n",
       "      <td>100</td>\n",
       "      <td>25</td>\n",
       "      <td>120</td>\n",
       "      <td>{'learning_rate': 100, 'max_depth': 25, 'n_est...</td>\n",
       "      <td>0.716611</td>\n",
       "      <td>0.582490</td>\n",
       "      <td>0.689115</td>\n",
       "      <td>0.000000</td>\n",
       "      <td>0.000000</td>\n",
       "      <td>0.397643</td>\n",
       "      <td>0.327751</td>\n",
       "      <td>23</td>\n",
       "    </tr>\n",
       "    <tr>\n",
       "      <th>28</th>\n",
       "      <td>0.432482</td>\n",
       "      <td>0.012412</td>\n",
       "      <td>0.014531</td>\n",
       "      <td>0.003869</td>\n",
       "      <td>100</td>\n",
       "      <td>30</td>\n",
       "      <td>120</td>\n",
       "      <td>{'learning_rate': 100, 'max_depth': 30, 'n_est...</td>\n",
       "      <td>0.716611</td>\n",
       "      <td>0.000000</td>\n",
       "      <td>0.689115</td>\n",
       "      <td>0.000000</td>\n",
       "      <td>0.582067</td>\n",
       "      <td>0.397559</td>\n",
       "      <td>0.327704</td>\n",
       "      <td>24</td>\n",
       "    </tr>\n",
       "    <tr>\n",
       "      <th>29</th>\n",
       "      <td>0.438203</td>\n",
       "      <td>0.005063</td>\n",
       "      <td>0.014463</td>\n",
       "      <td>0.003218</td>\n",
       "      <td>100</td>\n",
       "      <td>40</td>\n",
       "      <td>120</td>\n",
       "      <td>{'learning_rate': 100, 'max_depth': 40, 'n_est...</td>\n",
       "      <td>0.716611</td>\n",
       "      <td>0.000000</td>\n",
       "      <td>0.689115</td>\n",
       "      <td>0.000000</td>\n",
       "      <td>0.582067</td>\n",
       "      <td>0.397559</td>\n",
       "      <td>0.327704</td>\n",
       "      <td>24</td>\n",
       "    </tr>\n",
       "  </tbody>\n",
       "</table>\n",
       "</div>"
      ],
      "text/plain": [
       "    mean_fit_time  std_fit_time  mean_score_time  std_score_time  \\\n",
       "0        1.784824      0.064399         0.029717        0.005166   \n",
       "1        2.913876      0.103500         0.041049        0.011148   \n",
       "2        3.560577      0.099434         0.044422        0.002654   \n",
       "3        4.139391      0.197639         0.045914        0.004842   \n",
       "4        4.745063      0.328409         0.054406        0.010000   \n",
       "5        4.604132      0.152796         0.046398        0.007774   \n",
       "6        1.672955      0.043611         0.033406        0.004572   \n",
       "7        2.749372      0.104306         0.046094        0.009666   \n",
       "8        3.520853      0.032959         0.048159        0.003059   \n",
       "9        4.394883      0.151111         0.051507        0.001026   \n",
       "10       4.899744      0.058352         0.056334        0.003479   \n",
       "11       5.788555      0.083736         0.062384        0.003095   \n",
       "12       1.690858      0.033170         0.036996        0.003771   \n",
       "13       2.555516      0.039584         0.040935        0.000916   \n",
       "14       3.261405      0.037941         0.043680        0.002786   \n",
       "15       3.806441      0.015809         0.054223        0.013421   \n",
       "16       4.245763      0.100652         0.048374        0.003115   \n",
       "17       4.708810      0.066040         0.049500        0.004583   \n",
       "18       0.461646      0.097981         0.014465        0.004994   \n",
       "19       0.451165      0.017462         0.016066        0.003614   \n",
       "20       0.463080      0.014117         0.011446        0.001923   \n",
       "21       0.455685      0.003912         0.014488        0.003891   \n",
       "22       0.462588      0.009179         0.016262        0.004531   \n",
       "23       0.516623      0.070684         0.013553        0.003140   \n",
       "24       0.418918      0.007550         0.014054        0.003591   \n",
       "25       0.430093      0.005784         0.016478        0.003915   \n",
       "26       0.429970      0.003298         0.012069        0.004232   \n",
       "27       0.501865      0.090906         0.015369        0.002948   \n",
       "28       0.432482      0.012412         0.014531        0.003869   \n",
       "29       0.438203      0.005063         0.014463        0.003218   \n",
       "\n",
       "   param_learning_rate param_max_depth param_n_estimators  \\\n",
       "0                 0.01              10                120   \n",
       "1                 0.01              15                120   \n",
       "2                 0.01              20                120   \n",
       "3                 0.01              25                120   \n",
       "4                 0.01              30                120   \n",
       "5                 0.01              40                120   \n",
       "6                  0.1              10                120   \n",
       "7                  0.1              15                120   \n",
       "8                  0.1              20                120   \n",
       "9                  0.1              25                120   \n",
       "10                 0.1              30                120   \n",
       "11                 0.1              40                120   \n",
       "12                   1              10                120   \n",
       "13                   1              15                120   \n",
       "14                   1              20                120   \n",
       "15                   1              25                120   \n",
       "16                   1              30                120   \n",
       "17                   1              40                120   \n",
       "18                  10              10                120   \n",
       "19                  10              15                120   \n",
       "20                  10              20                120   \n",
       "21                  10              25                120   \n",
       "22                  10              30                120   \n",
       "23                  10              40                120   \n",
       "24                 100              10                120   \n",
       "25                 100              15                120   \n",
       "26                 100              20                120   \n",
       "27                 100              25                120   \n",
       "28                 100              30                120   \n",
       "29                 100              40                120   \n",
       "\n",
       "                                               params  split0_test_score  \\\n",
       "0   {'learning_rate': 0.01, 'max_depth': 10, 'n_es...           0.806838   \n",
       "1   {'learning_rate': 0.01, 'max_depth': 15, 'n_es...           0.812966   \n",
       "2   {'learning_rate': 0.01, 'max_depth': 20, 'n_es...           0.811437   \n",
       "3   {'learning_rate': 0.01, 'max_depth': 25, 'n_es...           0.809561   \n",
       "4   {'learning_rate': 0.01, 'max_depth': 30, 'n_es...           0.806684   \n",
       "5   {'learning_rate': 0.01, 'max_depth': 40, 'n_es...           0.806684   \n",
       "6   {'learning_rate': 0.1, 'max_depth': 10, 'n_est...           0.835905   \n",
       "7   {'learning_rate': 0.1, 'max_depth': 15, 'n_est...           0.826948   \n",
       "8   {'learning_rate': 0.1, 'max_depth': 20, 'n_est...           0.820988   \n",
       "9   {'learning_rate': 0.1, 'max_depth': 25, 'n_est...           0.817503   \n",
       "10  {'learning_rate': 0.1, 'max_depth': 30, 'n_est...           0.814701   \n",
       "11  {'learning_rate': 0.1, 'max_depth': 40, 'n_est...           0.814738   \n",
       "12  {'learning_rate': 1, 'max_depth': 10, 'n_estim...           0.801231   \n",
       "13  {'learning_rate': 1, 'max_depth': 15, 'n_estim...           0.802968   \n",
       "14  {'learning_rate': 1, 'max_depth': 20, 'n_estim...           0.801753   \n",
       "15  {'learning_rate': 1, 'max_depth': 25, 'n_estim...           0.804320   \n",
       "16  {'learning_rate': 1, 'max_depth': 30, 'n_estim...           0.802349   \n",
       "17  {'learning_rate': 1, 'max_depth': 40, 'n_estim...           0.806294   \n",
       "18  {'learning_rate': 10, 'max_depth': 10, 'n_esti...           0.000000   \n",
       "19  {'learning_rate': 10, 'max_depth': 15, 'n_esti...           0.528536   \n",
       "20  {'learning_rate': 10, 'max_depth': 20, 'n_esti...           0.000000   \n",
       "21  {'learning_rate': 10, 'max_depth': 25, 'n_esti...           0.584346   \n",
       "22  {'learning_rate': 10, 'max_depth': 30, 'n_esti...           0.586857   \n",
       "23  {'learning_rate': 10, 'max_depth': 40, 'n_esti...           0.586857   \n",
       "24  {'learning_rate': 100, 'max_depth': 10, 'n_est...           0.216405   \n",
       "25  {'learning_rate': 100, 'max_depth': 15, 'n_est...           0.620640   \n",
       "26  {'learning_rate': 100, 'max_depth': 20, 'n_est...           0.000000   \n",
       "27  {'learning_rate': 100, 'max_depth': 25, 'n_est...           0.716611   \n",
       "28  {'learning_rate': 100, 'max_depth': 30, 'n_est...           0.716611   \n",
       "29  {'learning_rate': 100, 'max_depth': 40, 'n_est...           0.716611   \n",
       "\n",
       "    split1_test_score  split2_test_score  split3_test_score  \\\n",
       "0            0.802658           0.798668           0.803257   \n",
       "1            0.804478           0.793388           0.803236   \n",
       "2            0.801347           0.798257           0.799685   \n",
       "3            0.796263           0.799794           0.799790   \n",
       "4            0.795225           0.799897           0.801573   \n",
       "5            0.795225           0.799897           0.801573   \n",
       "6            0.817900           0.820196           0.828113   \n",
       "7            0.812143           0.811662           0.823220   \n",
       "8            0.805512           0.809180           0.812829   \n",
       "9            0.803947           0.807027           0.810399   \n",
       "10           0.801558           0.805148           0.808499   \n",
       "11           0.803317           0.803815           0.806181   \n",
       "12           0.796051           0.805148           0.803999   \n",
       "13           0.794528           0.802139           0.801679   \n",
       "14           0.790289           0.800308           0.805541   \n",
       "15           0.792161           0.803700           0.798644   \n",
       "16           0.795425           0.797546           0.804081   \n",
       "17           0.793921           0.798668           0.800416   \n",
       "18           0.000000           0.701531           0.620219   \n",
       "19           0.582490           0.000000           0.000000   \n",
       "20           0.687325           0.584807           0.000000   \n",
       "21           0.627132           0.676152           0.654060   \n",
       "22           0.627936           0.676152           0.654060   \n",
       "23           0.627936           0.676152           0.654060   \n",
       "24           0.000000           0.700000           0.514270   \n",
       "25           0.620931           0.581901           0.631839   \n",
       "26           0.000000           0.000000           0.576981   \n",
       "27           0.582490           0.689115           0.000000   \n",
       "28           0.000000           0.689115           0.000000   \n",
       "29           0.000000           0.689115           0.000000   \n",
       "\n",
       "    split4_test_score  mean_test_score  std_test_score  rank_test_score  \n",
       "0            0.797900         0.801864        0.003263                8  \n",
       "1            0.797604         0.802334        0.006646                7  \n",
       "2            0.790807         0.800307        0.006630                9  \n",
       "3            0.786851         0.798452        0.007299               13  \n",
       "4            0.785807         0.797837        0.007043               15  \n",
       "5            0.785286         0.797733        0.007222               16  \n",
       "6            0.822298         0.824882        0.006471                1  \n",
       "7            0.805577         0.815910        0.007928                2  \n",
       "8            0.805202         0.810742        0.005828                3  \n",
       "9            0.808060         0.809387        0.004557                4  \n",
       "10           0.799274         0.805836        0.005432                5  \n",
       "11           0.797817         0.805174        0.005512                6  \n",
       "12           0.788190         0.798924        0.006218               11  \n",
       "13           0.787305         0.797724        0.006023               17  \n",
       "14           0.787692         0.797117        0.006900               18  \n",
       "15           0.793675         0.798500        0.004988               12  \n",
       "16           0.791967         0.798274        0.004444               14  \n",
       "17           0.796315         0.799123        0.004201               10  \n",
       "18           0.000000         0.264350        0.324781               28  \n",
       "19           0.582067         0.338619        0.277176               26  \n",
       "20           0.000000         0.254426        0.313289               29  \n",
       "21           0.655354         0.639409        0.031628               19  \n",
       "22           0.651235         0.639248        0.030324               20  \n",
       "23           0.651235         0.639248        0.030324               20  \n",
       "24           0.000000         0.286135        0.279978               27  \n",
       "25           0.000000         0.491062        0.246117               22  \n",
       "26           0.582067         0.231810        0.283912               30  \n",
       "27           0.000000         0.397643        0.327751               23  \n",
       "28           0.582067         0.397559        0.327704               24  \n",
       "29           0.582067         0.397559        0.327704               24  "
      ]
     },
     "execution_count": 141,
     "metadata": {},
     "output_type": "execute_result"
    }
   ],
   "source": [
    "res"
   ]
  },
  {
   "cell_type": "code",
   "execution_count": 147,
   "metadata": {},
   "outputs": [
    {
     "data": {
      "image/png": "[encoded data removed]",
      "text/plain": [
       "<Figure size 432x288 with 1 Axes>"
      ]
     },
     "metadata": {
      "needs_background": "light"
     },
     "output_type": "display_data"
    }
   ],
   "source": [
    "plt.scatter(res['mean_test_score'],res['std_test_score'])\n",
    "plt.show()"
   ]
  },
  {
   "cell_type": "code",
   "execution_count": 151,
   "metadata": {},
   "outputs": [
    {
     "data": {
      "text/html": [
       "<div>\n",
       "<style scoped>\n",
       "    .dataframe tbody tr th:only-of-type {\n",
       "        vertical-align: middle;\n",
       "    }\n",
       "\n",
       "    .dataframe tbody tr th {\n",
       "        vertical-align: top;\n",
       "    }\n",
       "\n",
       "    .dataframe thead th {\n",
       "        text-align: right;\n",
       "    }\n",
       "</style>\n",
       "<table border=\"1\" class=\"dataframe\">\n",
       "  <thead>\n",
       "    <tr style=\"text-align: right;\">\n",
       "      <th></th>\n",
       "      <th>mean_fit_time</th>\n",
       "      <th>std_fit_time</th>\n",
       "      <th>mean_score_time</th>\n",
       "      <th>std_score_time</th>\n",
       "      <th>param_learning_rate</th>\n",
       "      <th>param_max_depth</th>\n",
       "      <th>param_n_estimators</th>\n",
       "      <th>params</th>\n",
       "      <th>split0_test_score</th>\n",
       "      <th>split1_test_score</th>\n",
       "      <th>split2_test_score</th>\n",
       "      <th>split3_test_score</th>\n",
       "      <th>split4_test_score</th>\n",
       "      <th>mean_test_score</th>\n",
       "      <th>std_test_score</th>\n",
       "      <th>rank_test_score</th>\n",
       "    </tr>\n",
       "  </thead>\n",
       "  <tbody>\n",
       "    <tr>\n",
       "      <th>0</th>\n",
       "      <td>1.784824</td>\n",
       "      <td>0.064399</td>\n",
       "      <td>0.029717</td>\n",
       "      <td>0.005166</td>\n",
       "      <td>0.01</td>\n",
       "      <td>10</td>\n",
       "      <td>120</td>\n",
       "      <td>{'learning_rate': 0.01, 'max_depth': 10, 'n_es...</td>\n",
       "      <td>0.806838</td>\n",
       "      <td>0.802658</td>\n",
       "      <td>0.798668</td>\n",
       "      <td>0.803257</td>\n",
       "      <td>0.79790</td>\n",
       "      <td>0.801864</td>\n",
       "      <td>0.003263</td>\n",
       "      <td>8</td>\n",
       "    </tr>\n",
       "    <tr>\n",
       "      <th>9</th>\n",
       "      <td>4.394883</td>\n",
       "      <td>0.151111</td>\n",
       "      <td>0.051507</td>\n",
       "      <td>0.001026</td>\n",
       "      <td>0.1</td>\n",
       "      <td>25</td>\n",
       "      <td>120</td>\n",
       "      <td>{'learning_rate': 0.1, 'max_depth': 25, 'n_est...</td>\n",
       "      <td>0.817503</td>\n",
       "      <td>0.803947</td>\n",
       "      <td>0.807027</td>\n",
       "      <td>0.810399</td>\n",
       "      <td>0.80806</td>\n",
       "      <td>0.809387</td>\n",
       "      <td>0.004557</td>\n",
       "      <td>4</td>\n",
       "    </tr>\n",
       "  </tbody>\n",
       "</table>\n",
       "</div>"
      ],
      "text/plain": [
       "   mean_fit_time  std_fit_time  mean_score_time  std_score_time  \\\n",
       "0       1.784824      0.064399         0.029717        0.005166   \n",
       "9       4.394883      0.151111         0.051507        0.001026   \n",
       "\n",
       "  param_learning_rate param_max_depth param_n_estimators  \\\n",
       "0                0.01              10                120   \n",
       "9                 0.1              25                120   \n",
       "\n",
       "                                              params  split0_test_score  \\\n",
       "0  {'learning_rate': 0.01, 'max_depth': 10, 'n_es...           0.806838   \n",
       "9  {'learning_rate': 0.1, 'max_depth': 25, 'n_est...           0.817503   \n",
       "\n",
       "   split1_test_score  split2_test_score  split3_test_score  split4_test_score  \\\n",
       "0           0.802658           0.798668           0.803257            0.79790   \n",
       "9           0.803947           0.807027           0.810399            0.80806   \n",
       "\n",
       "   mean_test_score  std_test_score  rank_test_score  \n",
       "0         0.801864        0.003263                8  \n",
       "9         0.809387        0.004557                4  "
      ]
     },
     "execution_count": 151,
     "metadata": {},
     "output_type": "execute_result"
    }
   ],
   "source": [
    "res[(res['mean_test_score'] > 0.8) & (res['std_test_score'] < 0.005)]"
   ]
  },
  {
   "cell_type": "markdown",
   "metadata": {},
   "source": [
    "<a id=\"final\"></a>\n",
    "# Fitting the training data to the tuned model\n",
    "### Model Training"
   ]
  },
  {
   "cell_type": "code",
   "execution_count": 142,
   "metadata": {},
   "outputs": [],
   "source": [
    "final_mod=XGBClassifier(**tun_mod.best_params_)"
   ]
  },
  {
   "cell_type": "code",
   "execution_count": 143,
   "metadata": {},
   "outputs": [
    {
     "data": {
      "text/plain": [
       "XGBClassifier(base_score=0.5, booster='gbtree', colsample_bylevel=1,\n",
       "              colsample_bynode=1, colsample_bytree=1, gamma=0, gpu_id=-1,\n",
       "              importance_type='gain', interaction_constraints='',\n",
       "              learning_rate=0.1, max_delta_step=0, max_depth=10,\n",
       "              min_child_weight=1, missing=nan, monotone_constraints='()',\n",
       "              n_estimators=120, n_jobs=0, num_parallel_tree=1, random_state=0,\n",
       "              reg_alpha=0, reg_lambda=1, scale_pos_weight=1, subsample=1,\n",
       "              tree_method='exact', validate_parameters=1, verbosity=None)"
      ]
     },
     "execution_count": 143,
     "metadata": {},
     "output_type": "execute_result"
    }
   ],
   "source": [
    "final_mod.fit(xtrain,ytrain)"
   ]
  },
  {
   "cell_type": "markdown",
   "metadata": {},
   "source": [
    "### Model Testing"
   ]
  },
  {
   "cell_type": "code",
   "execution_count": 144,
   "metadata": {},
   "outputs": [],
   "source": [
    "ypred1=final_mod.predict(xtest)\n",
    "ypred1_train=final_mod.predict(xtrain)"
   ]
  },
  {
   "cell_type": "code",
   "execution_count": 145,
   "metadata": {
    "scrolled": true
   },
   "outputs": [
    {
     "name": "stdout",
     "output_type": "stream",
     "text": [
      "              precision    recall  f1-score   support\n",
      "\n",
      "         0.0       0.88      0.90      0.89      6016\n",
      "         1.0       0.85      0.82      0.83      4184\n",
      "\n",
      "    accuracy                           0.87     10200\n",
      "   macro avg       0.86      0.86      0.86     10200\n",
      "weighted avg       0.87      0.87      0.87     10200\n",
      "\n"
     ]
    }
   ],
   "source": [
    "print(classification_report(ytest,ypred1))"
   ]
  },
  {
   "cell_type": "code",
   "execution_count": 146,
   "metadata": {},
   "outputs": [
    {
     "name": "stdout",
     "output_type": "stream",
     "text": [
      "0.8302069166407605 0.006033830349607658\n"
     ]
    }
   ],
   "source": [
    "score = cross_val_score(final_mod, inp_bal, out_bal, cv=kf, scoring='f1')\n",
    "print(np.mean(score),np.std(score)/np.mean(score))"
   ]
  },
  {
   "cell_type": "markdown",
   "metadata": {},
   "source": [
    "### Model Evaluation using KFold-CV"
   ]
  },
  {
   "cell_type": "code",
   "execution_count": 153,
   "metadata": {},
   "outputs": [
    {
     "name": "stdout",
     "output_type": "stream",
     "text": [
      "0.8321848167373831 0.0070797709246463985\n"
     ]
    }
   ],
   "source": [
    "## K-fold CV, model eval\n",
    "\n",
    "kf = KFold(n_splits=7,shuffle=True,random_state=20)\n",
    "score = cross_val_score(final_mod, inp_bal, out_bal, cv=kf, scoring='f1')\n",
    "print(np.mean(score),np.std(score)/np.mean(score))"
   ]
  },
  {
   "cell_type": "markdown",
   "metadata": {},
   "source": [
    "<a id=\"thres\"></a>\n",
    "#### Threshold Tuning"
   ]
  },
  {
   "cell_type": "code",
   "execution_count": 158,
   "metadata": {},
   "outputs": [],
   "source": [
    "prob=final_mod.predict_proba(xtest)\n",
    "prob_1=prob[:,1]"
   ]
  },
  {
   "cell_type": "code",
   "execution_count": 159,
   "metadata": {
    "scrolled": true
   },
   "outputs": [
    {
     "name": "stdout",
     "output_type": "stream",
     "text": [
      "The report for Th =  0.2\n",
      "[[4296 1720]\n",
      " [ 225 3959]]\n",
      "              precision    recall  f1-score   support\n",
      "\n",
      "         0.0       0.95      0.71      0.82      6016\n",
      "         1.0       0.70      0.95      0.80      4184\n",
      "\n",
      "    accuracy                           0.81     10200\n",
      "   macro avg       0.82      0.83      0.81     10200\n",
      "weighted avg       0.85      0.81      0.81     10200\n",
      "\n",
      "The report for Th =  0.3\n",
      "[[4756 1260]\n",
      " [ 373 3811]]\n",
      "              precision    recall  f1-score   support\n",
      "\n",
      "         0.0       0.93      0.79      0.85      6016\n",
      "         1.0       0.75      0.91      0.82      4184\n",
      "\n",
      "    accuracy                           0.84     10200\n",
      "   macro avg       0.84      0.85      0.84     10200\n",
      "weighted avg       0.86      0.84      0.84     10200\n",
      "\n",
      "The report for Th =  0.4\n",
      "[[5122  894]\n",
      " [ 543 3641]]\n",
      "              precision    recall  f1-score   support\n",
      "\n",
      "         0.0       0.90      0.85      0.88      6016\n",
      "         1.0       0.80      0.87      0.84      4184\n",
      "\n",
      "    accuracy                           0.86     10200\n",
      "   macro avg       0.85      0.86      0.86     10200\n",
      "weighted avg       0.86      0.86      0.86     10200\n",
      "\n",
      "The report for Th =  0.5\n",
      "[[5395  621]\n",
      " [ 751 3433]]\n",
      "              precision    recall  f1-score   support\n",
      "\n",
      "         0.0       0.88      0.90      0.89      6016\n",
      "         1.0       0.85      0.82      0.83      4184\n",
      "\n",
      "    accuracy                           0.87     10200\n",
      "   macro avg       0.86      0.86      0.86     10200\n",
      "weighted avg       0.87      0.87      0.87     10200\n",
      "\n",
      "The report for Th =  0.6\n",
      "[[5656  360]\n",
      " [1006 3178]]\n",
      "              precision    recall  f1-score   support\n",
      "\n",
      "         0.0       0.85      0.94      0.89      6016\n",
      "         1.0       0.90      0.76      0.82      4184\n",
      "\n",
      "    accuracy                           0.87     10200\n",
      "   macro avg       0.87      0.85      0.86     10200\n",
      "weighted avg       0.87      0.87      0.86     10200\n",
      "\n",
      "The report for Th =  0.8\n",
      "[[5927   89]\n",
      " [1648 2536]]\n",
      "              precision    recall  f1-score   support\n",
      "\n",
      "         0.0       0.78      0.99      0.87      6016\n",
      "         1.0       0.97      0.61      0.74      4184\n",
      "\n",
      "    accuracy                           0.83     10200\n",
      "   macro avg       0.87      0.80      0.81     10200\n",
      "weighted avg       0.86      0.83      0.82     10200\n",
      "\n"
     ]
    }
   ],
   "source": [
    "for i in [0.2,0.3,0.4,0.5,0.6,0.8]:\n",
    "    ypred1=np.zeros([len(ytest),1])\n",
    "    ypred1[prob_1>=i]=1\n",
    "    print(\"The report for Th = \",i)\n",
    "    print(confusion_matrix(ytest,ypred1))\n",
    "    print(classification_report(ytest,ypred1))\n",
    "    "
   ]
  },
  {
   "cell_type": "markdown",
   "metadata": {},
   "source": [
    "##### Inferences:\n",
    "    - 0.5 as the threshold appear to give a balanced recall and percision"
   ]
  },
  {
   "cell_type": "markdown",
   "metadata": {},
   "source": [
    "### Conclusion"
   ]
  },
  {
   "cell_type": "markdown",
   "metadata": {},
   "source": [
    "- In this model both False Negative and False Positives are costly errors as we don't want to classify people wrongly under different groups. Therefore, F1 score is the appropriate scoring metric for this problem.\n",
    "- F1 score - Test of accuracy: 2* ((Percision*Recall)/ Percision + Recall):\n",
    "    - 83.21% for this dataset\n",
    "- The tuned model is predicting 89.67% of group 1 (Class 0) correctly and 10.32% wrongly. \n",
    "- And is predicting 82.05% of group 2 (Class 1) correctly and 19.95% wrongly."
   ]
  }
 ],
 "metadata": {
  "kernelspec": {
   "display_name": "Python 3",
   "language": "python",
   "name": "python3"
  },
  "language_info": {
   "codemirror_mode": {
    "name": "ipython",
    "version": 3
   },
   "file_extension": ".py",
   "mimetype": "text/x-python",
   "name": "python",
   "nbconvert_exporter": "python",
   "pygments_lexer": "ipython3",
   "version": "3.8.3"
  }
 },
 "nbformat": 4,
 "nbformat_minor": 4
}
